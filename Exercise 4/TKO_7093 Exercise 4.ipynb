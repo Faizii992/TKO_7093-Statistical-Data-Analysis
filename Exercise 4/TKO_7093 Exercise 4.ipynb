{
 "cells": [
  {
   "cell_type": "markdown",
   "id": "e68b5bad",
   "metadata": {},
   "source": [
    "#1 \n",
    "1. Apply a multivariable test and obtain P-value for the following 3 datasets.\n",
    "a) Dice data: 2, 3, 5, 4, 4, 3 4, 2, 3, 5, 2, 3 3, 1, 4, 4, 3, 5\n",
    "b) Nordic countries: Fi,Sw,Fi,No,Sw,Fi No,Sw,No,Fi,Fi,Fi Sw,Fi,No,Sw,Sw,No"
   ]
  },
  {
   "cell_type": "code",
   "execution_count": 1,
   "id": "e0529193",
   "metadata": {},
   "outputs": [],
   "source": [
    "import numpy as np\n",
    "import pandas as pd\n",
    "from scipy import stats\n",
    "import statsmodels\n",
    "from statsmodels.formula.api import ols\n",
    "import statsmodels.api as sm"
   ]
  },
  {
   "cell_type": "markdown",
   "id": "54a8ce27",
   "metadata": {},
   "source": [
    "# 1"
   ]
  },
  {
   "cell_type": "code",
   "execution_count": null,
   "id": "793559fc",
   "metadata": {},
   "outputs": [],
   "source": [
    "# a)\n",
    "import statsmodels.formula.api as SFA\n",
    "\n",
    "\n",
    "s1 = pd.Series([2, 3, 5, 4, 4, 3])\n",
    "s2 = pd.Series([4, 2, 3, 5, 2, 3])\n",
    "s3 = pd.Series([3, 1, 4, 4, 3, 5])\n",
    "df = pd.concat([s1, s2, s3], axis=1)\n",
    "df.columns = ['A', 'B', 'C']\n",
    "\n",
    "print(stats.shapiro(s1).pvalue, end=\"\\n\\n\")\n",
    "print(stats.shapiro(s2).pvalue, end=\"\\n\\n\")\n",
    "print(stats.shapiro(s3).pvalue, end=\"\\n\\n\")\n",
    "\n",
    "# assuming that numbers are measured values from 6-sided dice\n",
    "# (small samples from non-normal distributions)\n",
    "\n",
    "print(stats.kruskal(s1, s2, s3).pvalue, end=\"\\n\\n\")\n",
    "\n",
    "# OR\n",
    "\n",
    "# assuming that numbers are counts\n",
    "\n",
    "print(stats.chi2_contingency(df)[1], end=\"\\n\\n\")\n",
    "\n",
    "# OR (if you ignore that it is \"dice data\")\n",
    "\n",
    "# assuming that numbers are measured values from normal distribution\n",
    "# (definitely not the case with 6-sided dice)\n",
    "\n",
    "dfm = df.melt()\n",
    "dfm.columns = ['group', 'value']\n",
    "\n",
    "model = SFA.ols('value ~ group', data=dfm).fit()\n",
    "print(SA.stats.anova_lm(model, typ=1), end=\"\\n\\n\")\n",
    "\n",
    "# ALTERNATIVELY\n",
    "\n",
    "# assuming that numbers are measured values from normal distribution\n",
    "# (definitely not the case with 6-sided dice)\n",
    "\n",
    "print(stats.f_oneway(s1, s2, s3).pvalue, end=\"\\n\\n\")"
   ]
  },
  {
   "cell_type": "code",
   "execution_count": 3,
   "id": "c098fbab",
   "metadata": {},
   "outputs": [
    {
     "name": "stdout",
     "output_type": "stream",
     "text": [
      "     dataset  value\n",
      "0   dataset1      2\n",
      "1   dataset1      3\n",
      "2   dataset1      5\n",
      "3   dataset1      4\n",
      "4   dataset1      4\n",
      "5   dataset1      3\n",
      "6   dataset2      4\n",
      "7   dataset2      2\n",
      "8   dataset2      3\n",
      "9   dataset2      5\n",
      "10  dataset2      2\n",
      "11  dataset2      3\n",
      "12  dataset3      3\n",
      "13  dataset3      1\n",
      "14  dataset3      4\n",
      "15  dataset3      4\n",
      "16  dataset3      3\n",
      "17  dataset3      5\n"
     ]
    },
    {
     "data": {
      "text/html": [
       "<div>\n",
       "<style scoped>\n",
       "    .dataframe tbody tr th:only-of-type {\n",
       "        vertical-align: middle;\n",
       "    }\n",
       "\n",
       "    .dataframe tbody tr th {\n",
       "        vertical-align: top;\n",
       "    }\n",
       "\n",
       "    .dataframe thead th {\n",
       "        text-align: right;\n",
       "    }\n",
       "</style>\n",
       "<table border=\"1\" class=\"dataframe\">\n",
       "  <thead>\n",
       "    <tr style=\"text-align: right;\">\n",
       "      <th></th>\n",
       "      <th>df</th>\n",
       "      <th>sum_sq</th>\n",
       "      <th>mean_sq</th>\n",
       "      <th>F</th>\n",
       "      <th>PR(&gt;F)</th>\n",
       "    </tr>\n",
       "  </thead>\n",
       "  <tbody>\n",
       "    <tr>\n",
       "      <th>C(dataset)</th>\n",
       "      <td>2.0</td>\n",
       "      <td>0.333333</td>\n",
       "      <td>0.166667</td>\n",
       "      <td>0.115385</td>\n",
       "      <td>0.891807</td>\n",
       "    </tr>\n",
       "    <tr>\n",
       "      <th>Residual</th>\n",
       "      <td>15.0</td>\n",
       "      <td>21.666667</td>\n",
       "      <td>1.444444</td>\n",
       "      <td>NaN</td>\n",
       "      <td>NaN</td>\n",
       "    </tr>\n",
       "  </tbody>\n",
       "</table>\n",
       "</div>"
      ],
      "text/plain": [
       "              df     sum_sq   mean_sq         F    PR(>F)\n",
       "C(dataset)   2.0   0.333333  0.166667  0.115385  0.891807\n",
       "Residual    15.0  21.666667  1.444444       NaN       NaN"
      ]
     },
     "execution_count": 3,
     "metadata": {},
     "output_type": "execute_result"
    }
   ],
   "source": [
    "data=pd.DataFrame({\"dataset1\":dice_1,\"dataset2\": dice_2,\"dataset3\": dice_3})\n",
    "modified_data=pd.melt(data,value_vars=['dataset1','dataset2','dataset3'])\n",
    "modified_data.columns=['dataset','value']\n",
    "# Model\n",
    "print(modified_data)\n",
    "model=ols('value~C(dataset)',data=modified_data).fit()\n",
    "# ANOVA\n",
    "anova= sm.stats.anova_lm(model,typ=1)\n",
    "anova"
   ]
  },
  {
   "cell_type": "code",
   "execution_count": null,
   "id": "f44db5f8",
   "metadata": {},
   "outputs": [],
   "source": []
  },
  {
   "cell_type": "code",
   "execution_count": null,
   "id": "2698c9b2",
   "metadata": {},
   "outputs": [],
   "source": []
  },
  {
   "cell_type": "code",
   "execution_count": 4,
   "id": "1176bcc0",
   "metadata": {},
   "outputs": [
    {
     "name": "stdout",
     "output_type": "stream",
     "text": [
      "0.8393489298785\n",
      "\n"
     ]
    }
   ],
   "source": [
    "print(stats.kruskal(dice_1, dice_2, dice_3).pvalue, end=\"\\n\\n\")"
   ]
  },
  {
   "cell_type": "code",
   "execution_count": 5,
   "id": "b26ae151",
   "metadata": {},
   "outputs": [
    {
     "name": "stdout",
     "output_type": "stream",
     "text": [
      "0.6369783501089177\n",
      "\n"
     ]
    }
   ],
   "source": [
    "# b\n",
    "\n",
    "s1 = pd.Series(['Fi', 'Sw', 'Fi', 'No', 'Sw', 'Fi'])\n",
    "s2 = pd.Series(['No', 'Sw', 'No', 'Fi', 'Fi', 'Fi'])\n",
    "s3 = pd.Series(['Sw', 'Fi', 'No', 'Sw', 'Sw', 'No'])\n",
    "df = pd.concat([s1, s2, s3], axis=1)\n",
    "counts = df.apply(pd.Series.value_counts)\n",
    "\n",
    "print(stats.chi2_contingency(counts)[1], end=\"\\n\\n\")"
   ]
  },
  {
   "cell_type": "markdown",
   "id": "35cba638",
   "metadata": {},
   "source": [
    "# 2\n",
    "\n",
    "#### Fig. 3J in article 4\n",
    "\n",
    "- x-axis: \"the average expression level of cytotoxic genes divided by the average expression level of exhausted genes [...] in nLung, SSN, and mLUAD\"\n",
    "- y-axis: the fraction of observations that have a value that is less than or equal to the given value (i.e. cumulative distribution function)\n",
    "\n",
    "The cytotoxic/exhausted score is a numerical variable. \"P-value was calculated by two-sided unpaired Kruskal-Wallis rank sum test.\"\n",
    "\n",
    "#### Fig. 1 in article 5\n",
    "\n",
    "- x-axis: number of COVID-19 tests, log-transformed\n",
    "- y-axis: COVID-19 mortality rate, log-transformed\n",
    "\n",
    "Both are numerical variables and normally distributed (after log-transformation). Linear regression was used in analysis, so \"correlation\" means linear (Pearson) correlation."
   ]
  },
  {
   "cell_type": "markdown",
   "id": "a5be5849",
   "metadata": {},
   "source": [
    "# 3"
   ]
  },
  {
   "cell_type": "code",
   "execution_count": 6,
   "id": "6fbf4a48",
   "metadata": {},
   "outputs": [
    {
     "name": "stdout",
     "output_type": "stream",
     "text": [
      "P value for F:  0.16530661284923553\n",
      "P value for G:  0.4589977264404297\n",
      "P value for H:  0.9414567351341248\n",
      "P value for I:  0.0012272947933524847\n"
     ]
    }
   ],
   "source": [
    "df3=pd.read_csv(\"datasets/utu/SA/simulated_data_2_5.csv\", index_col=0)\n",
    "print(\"P value for F: \",stats.shapiro(df3[\"F\"])[1])\n",
    "print(\"P value for G: \",stats.shapiro(df3[\"G\"])[1])\n",
    "print(\"P value for H: \",stats.shapiro(df3[\"H\"])[1])\n",
    "print(\"P value for I: \",stats.shapiro(df3[\"I\"])[1])"
   ]
  },
  {
   "cell_type": "code",
   "execution_count": 7,
   "id": "3afcdcd2",
   "metadata": {},
   "outputs": [
    {
     "name": "stdout",
     "output_type": "stream",
     "text": [
      "    variable  value\n",
      "0          F  27.42\n",
      "1          F -11.29\n",
      "2          F   7.26\n",
      "3          F  12.66\n",
      "4          F   8.09\n",
      "..       ...    ...\n",
      "295        H   3.05\n",
      "296        H   3.67\n",
      "297        H   5.73\n",
      "298        H   4.19\n",
      "299        H   0.75\n",
      "\n",
      "[300 rows x 2 columns]\n"
     ]
    }
   ],
   "source": [
    "FGH=pd.DataFrame({'F': df3[\"F\"],'G':df3[\"G\"], 'H':df3[\"H\"]})\n",
    "modified_data=pd.melt(FGH,value_vars=['F','G','H'])\n",
    "#modified_data.columns=['dataset','value']\n",
    "# Model\n",
    "print(modified_data)"
   ]
  },
  {
   "cell_type": "code",
   "execution_count": 8,
   "id": "6a966438",
   "metadata": {},
   "outputs": [
    {
     "data": {
      "text/html": [
       "<div>\n",
       "<style scoped>\n",
       "    .dataframe tbody tr th:only-of-type {\n",
       "        vertical-align: middle;\n",
       "    }\n",
       "\n",
       "    .dataframe tbody tr th {\n",
       "        vertical-align: top;\n",
       "    }\n",
       "\n",
       "    .dataframe thead th {\n",
       "        text-align: right;\n",
       "    }\n",
       "</style>\n",
       "<table border=\"1\" class=\"dataframe\">\n",
       "  <thead>\n",
       "    <tr style=\"text-align: right;\">\n",
       "      <th></th>\n",
       "      <th>df</th>\n",
       "      <th>sum_sq</th>\n",
       "      <th>mean_sq</th>\n",
       "      <th>F</th>\n",
       "      <th>PR(&gt;F)</th>\n",
       "    </tr>\n",
       "  </thead>\n",
       "  <tbody>\n",
       "    <tr>\n",
       "      <th>C(variable)</th>\n",
       "      <td>2.0</td>\n",
       "      <td>1655.589235</td>\n",
       "      <td>827.794617</td>\n",
       "      <td>3.246674</td>\n",
       "      <td>0.040288</td>\n",
       "    </tr>\n",
       "    <tr>\n",
       "      <th>Residual</th>\n",
       "      <td>297.0</td>\n",
       "      <td>75725.191665</td>\n",
       "      <td>254.966975</td>\n",
       "      <td>NaN</td>\n",
       "      <td>NaN</td>\n",
       "    </tr>\n",
       "  </tbody>\n",
       "</table>\n",
       "</div>"
      ],
      "text/plain": [
       "                df        sum_sq     mean_sq         F    PR(>F)\n",
       "C(variable)    2.0   1655.589235  827.794617  3.246674  0.040288\n",
       "Residual     297.0  75725.191665  254.966975       NaN       NaN"
      ]
     },
     "execution_count": 8,
     "metadata": {},
     "output_type": "execute_result"
    }
   ],
   "source": [
    "model=ols('value~C(variable)',data=modified_data).fit()\n",
    "# ANOVA\n",
    "anova= sm.stats.anova_lm(model,typ=1)\n",
    "anova"
   ]
  },
  {
   "cell_type": "markdown",
   "id": "979f2f2b",
   "metadata": {},
   "source": []
  },
  {
   "cell_type": "code",
   "execution_count": 9,
   "id": "2aaf10e9",
   "metadata": {},
   "outputs": [
    {
     "name": "stdout",
     "output_type": "stream",
     "text": [
      "P value by ne way anova for F G H is :::  0.040288402932985905\n",
      "\n"
     ]
    }
   ],
   "source": [
    "\n",
    "# a)\n",
    "print(\"P value by ne way anova for F G H is ::: \",stats.f_oneway(df3.F, df3.G, df3.H).pvalue, end=\"\\n\\n\")"
   ]
  },
  {
   "cell_type": "code",
   "execution_count": 10,
   "id": "ae38c147",
   "metadata": {},
   "outputs": [
    {
     "name": "stdout",
     "output_type": "stream",
     "text": [
      "P value by kruskals for F H I is :::  1.1990327166649803e-08\n"
     ]
    }
   ],
   "source": [
    "#b \n",
    "print(\"P value by kruskals for F H I is ::: \",stats.kruskal(df3[\"F\"],df3[\"G\"],df3[\"I\"])[1])"
   ]
  },
  {
   "cell_type": "markdown",
   "id": "24e03066",
   "metadata": {},
   "source": [
    "# 4\n",
    "- article 1: none\n",
    "- article 2: Bonferroni correction with ANOVA (Fig. 4 and 6-8)\n",
    "- article 3: none\n",
    "- article 4: Benjamini-Hochberg (Fig. 4)\n",
    "- article 5: none"
   ]
  },
  {
   "cell_type": "markdown",
   "id": "d39d8c20",
   "metadata": {},
   "source": [
    "# 5"
   ]
  },
  {
   "cell_type": "code",
   "execution_count": 11,
   "id": "060dbc3c",
   "metadata": {},
   "outputs": [],
   "source": [
    "with open(\"horse-colic.data.csv\") as f_in:\n",
    "    with open(\"horse-colic.data.fixed\", 'w') as f_out:\n",
    "        for line in f_in.readlines():\n",
    "            f_out.write(line.strip() + \"\\n\")"
   ]
  },
  {
   "cell_type": "code",
   "execution_count": 12,
   "id": "d6d4da61",
   "metadata": {},
   "outputs": [
    {
     "name": "stdout",
     "output_type": "stream",
     "text": [
      "surgery\n",
      "yes    0.004697\n",
      "no     0.038224\n",
      "Name: temperature, dtype: float64\n",
      "\n",
      "surgery\n",
      "yes    7.691648e-07\n",
      "no     1.269095e-08\n",
      "Name: pulse, dtype: float64\n",
      "\n",
      "0.5115756499221304\n",
      "\n",
      "0.18449266908802875\n",
      "\n",
      "0.0017131378639079313\n",
      "\n",
      "0.5314060962927787\n",
      "\n",
      "0.0018551232424538833\n",
      "\n",
      "[0.51157565 0.276739   0.00513941]\n",
      "\n"
     ]
    }
   ],
   "source": [
    "import numpy as N\n",
    "import statsmodels.stats as SS\n",
    "\n",
    "df = pd.read_csv(\"horse-colic.data.fixed\",\n",
    "                sep=' ',\n",
    "                na_values='?',\n",
    "                usecols=[0, 1, 3, 4],\n",
    "                names=['surgery', 'age', 'temperature', 'pulse'])\n",
    "df.surgery = pd.Categorical(df.surgery)\n",
    "df.surgery = df.surgery.cat.rename_categories(['yes', 'no'])\n",
    "\n",
    "fn_normality = lambda a: stats.shapiro(a[~N.isnan(a)]).pvalue\n",
    "print(df.groupby('surgery').temperature.apply(fn_normality), end=\"\\n\\n\")\n",
    "print(df.groupby('surgery').pulse.apply(fn_normality), end=\"\\n\\n\")\n",
    "\n",
    "fn_sub = lambda a, b: df[(df.surgery == a) & (~N.isnan(df[b]))][b]\n",
    "p_temperature = stats.mannwhitneyu(fn_sub('yes', 'temperature'),\n",
    "                               fn_sub('no', 'temperature'),\n",
    "                               use_continuity=True).pvalue\n",
    "p_age = stats.chi2_contingency(pd.concat([fn_sub('yes', 'age').value_counts(),\n",
    "                                     fn_sub('no', 'age').value_counts()], axis=1))[1]\n",
    "p_pulse = stats.mannwhitneyu(fn_sub('yes', 'pulse'),\n",
    "                         fn_sub('no', 'pulse'),\n",
    "                         use_continuity=True).pvalue\n",
    "print(p_temperature, end=\"\\n\\n\")\n",
    "print(p_age, end=\"\\n\\n\")\n",
    "print(p_pulse, end=\"\\n\\n\")\n",
    "\n",
    "p_t_temperature = stats.ttest_ind(fn_sub('yes', 'temperature'),\n",
    "                              fn_sub('no', 'temperature')).pvalue\n",
    "p_t_pulse = stats.ttest_ind(fn_sub('yes', 'pulse'),\n",
    "                        fn_sub('no', 'pulse')).pvalue\n",
    "print(p_t_temperature, end=\"\\n\\n\")\n",
    "print(p_t_pulse, end=\"\\n\\n\")\n",
    "\n",
    "corrected = SS.multitest.multipletests([p_temperature, p_age, p_pulse],\n",
    "                                       method='fdr_bh')[1]\n",
    "print(corrected, end=\"\\n\\n\")"
   ]
  },
  {
   "cell_type": "code",
   "execution_count": null,
   "id": "1339976b",
   "metadata": {},
   "outputs": [],
   "source": []
  },
  {
   "cell_type": "code",
   "execution_count": null,
   "id": "cec2862c",
   "metadata": {},
   "outputs": [],
   "source": []
  }
 ],
 "metadata": {
  "kernelspec": {
   "display_name": "Python 3 (ipykernel)",
   "language": "python",
   "name": "python3"
  },
  "language_info": {
   "codemirror_mode": {
    "name": "ipython",
    "version": 3
   },
   "file_extension": ".py",
   "mimetype": "text/x-python",
   "name": "python",
   "nbconvert_exporter": "python",
   "pygments_lexer": "ipython3",
   "version": "3.11.3"
  }
 },
 "nbformat": 4,
 "nbformat_minor": 5
}
