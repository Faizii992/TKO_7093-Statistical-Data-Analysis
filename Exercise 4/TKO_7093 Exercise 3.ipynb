{
 "cells": [
  {
   "cell_type": "code",
   "execution_count": 6,
   "id": "d45d05cd",
   "metadata": {},
   "outputs": [],
   "source": [
    "import pandas as pd\n",
    "import numpy as np\n",
    "from scipy import stats\n",
    "import numpy as np"
   ]
  },
  {
   "cell_type": "code",
   "execution_count": 7,
   "id": "2ab5ef4f",
   "metadata": {},
   "outputs": [],
   "source": [
    "#• Student’s t-test can be used to compare two normal variables\n",
    "#Test two unpaired and not normally distributed variables: Mann–Whitney U test in R\n",
    "#Test two paired and not normally distributed variables: Wilcoxon signed-rank test in R\n",
    "#Test two paired and not normally distributed variables: Wilcoxon signed-rank test in R"
   ]
  },
  {
   "cell_type": "markdown",
   "id": "f7081910",
   "metadata": {},
   "source": [
    "# 1"
   ]
  },
  {
   "cell_type": "code",
   "execution_count": 11,
   "id": "a4a0e83f",
   "metadata": {},
   "outputs": [],
   "source": [
    "A=np.array([ 34, 23, 51, 47, 34])\n",
    "B=np.array([48, 27, 33, 45, 41, 35])\n",
    "C=np.array([34, 53, 54, 28, 52, 29])"
   ]
  },
  {
   "cell_type": "code",
   "execution_count": 12,
   "id": "695ee466",
   "metadata": {},
   "outputs": [
    {
     "name": "stdout",
     "output_type": "stream",
     "text": [
      "P value for A:  0.6185056567192078\n",
      "P value for B:  0.8777003288269043\n",
      "P value for C:  0.048212990164756775\n"
     ]
    }
   ],
   "source": [
    "print(\"P value for A: \",stats.shapiro(A)[1])\n",
    "print(\"P value for B: \",stats.shapiro(B)[1])\n",
    "print(\"P value for C: \",stats.shapiro(C)[1])"
   ]
  },
  {
   "cell_type": "markdown",
   "id": "b0ea79e0",
   "metadata": {},
   "source": [
    "Find P-values for suitable statistical test comparing A&B, A&C and B&C. Justify your selection of the test."
   ]
  },
  {
   "cell_type": "code",
   "execution_count": 15,
   "id": "bfc8d14e",
   "metadata": {},
   "outputs": [
    {
     "name": "stdout",
     "output_type": "stream",
     "text": [
      "Since for A,B  both are normal, so student's t test will be appropriate\n",
      "0.9507932942353805\n",
      "NO SIGNIFICANT DISTANCE\n"
     ]
    }
   ],
   "source": [
    "print(\"Since for A,B  both are normal, so student's t test will be appropriate\")\n",
    "print(stats.ttest_ind(A,B)[1])\n",
    "#print(stats.ttest_rel(A,B)[1])\n",
    "print(\"NO SIGNIFICANT DISTANCE\")"
   ]
  },
  {
   "cell_type": "code",
   "execution_count": 17,
   "id": "d606f457",
   "metadata": {},
   "outputs": [
    {
     "name": "stdout",
     "output_type": "stream",
     "text": [
      "Since for A,C  both are not normal, so Mann Whitney U test will be appropriate\n",
      "0.5189924682098411\n"
     ]
    }
   ],
   "source": [
    "print(\"Since for A,C  both are not normal, so Mann Whitney U test will be appropriate\")\n",
    "\n",
    "print(stats.mannwhitneyu(A, C, use_continuity=True,alternative='two-sided')[1])\n",
    "\n",
    "#stats.wilcoxon(A,C,correction=True)[1]"
   ]
  },
  {
   "cell_type": "code",
   "execution_count": 18,
   "id": "2e1a1027",
   "metadata": {},
   "outputs": [
    {
     "name": "stdout",
     "output_type": "stream",
     "text": [
      "Since for B,C  both are not normal, so Mann Whitney U test or Wilcoxon test will be appropriate\n",
      "Value for mann whitney  0.5887445887445888\n",
      "Value for Wilcoxon  0.6875\n"
     ]
    }
   ],
   "source": [
    "print(\"Since for B,C  both are not normal, so Mann Whitney U test or Wilcoxon test will be appropriate\")\n",
    "\n",
    "print(\"Value for mann whitney \",stats.mannwhitneyu(B, C, use_continuity=True,alternative='two-sided')[1])\n",
    "\n",
    "print(\"Value for Wilcoxon \",stats.wilcoxon(B,C,correction=True)[1])"
   ]
  },
  {
   "cell_type": "markdown",
   "id": "58b2fe72",
   "metadata": {},
   "source": [
    "# 2\n",
    "\n",
    "#### Article 2\n",
    "\n",
    "Figure 1: two-tailed Wilcoxon rank-sum test\n",
    "\n",
    "Figure 2: two-tailed Wilcoxon rank-sum test\n",
    "\n",
    "Figure 4b: one-way ANOVA with post hoc Bonferroni correction\n",
    "\n",
    "Figure 4e and 4f: two-tailed Student’s t test\n",
    "\n",
    "#### Article 3\n",
    "\n",
    "- unpaired T-test or Wilcoxon (Mann Whitney U) test for numerical variables\n",
    "- unpaired chi-squared test for categorical variables"
   ]
  },
  {
   "cell_type": "code",
   "execution_count": null,
   "id": "d68a1ce1",
   "metadata": {},
   "outputs": [],
   "source": []
  },
  {
   "cell_type": "markdown",
   "id": "b3acf477",
   "metadata": {},
   "source": [
    "# 3"
   ]
  },
  {
   "cell_type": "code",
   "execution_count": 19,
   "id": "5a9890cf",
   "metadata": {},
   "outputs": [],
   "source": [
    "D_test=np.array([5.6, 3.1, 8.7, 4.5, 6.7, 4.5])\n",
    "D_retest=np.array([6.1, 5.8, 8.5, 5.3, 7.2, 5.1])\n",
    "E_test=np.array([ 4.5, 3.9, 7.1, 4.3, 6.9, 8.2, 7.6])\n",
    "E_retest=np.array([ 4.9, 4.7, 7.8, 4.8, 7.5, 7.8, 8.1])"
   ]
  },
  {
   "cell_type": "code",
   "execution_count": 20,
   "id": "9ec49d03",
   "metadata": {},
   "outputs": [
    {
     "name": "stdout",
     "output_type": "stream",
     "text": [
      "P value for D_test:  0.8002392649650574\n",
      "P value for D_retest:  0.3768615424633026\n",
      "P value for E_test:  0.16666603088378906\n",
      "P value for E_retest:  0.014585546217858791\n"
     ]
    }
   ],
   "source": [
    "print(\"P value for D_test: \",stats.shapiro(D_test)[1])\n",
    "print(\"P value for D_retest: \",stats.shapiro(D_retest)[1])\n",
    "print(\"P value for E_test: \",stats.shapiro(E_test)[1])\n",
    "print(\"P value for E_retest: \",stats.shapiro(E_retest)[1])"
   ]
  },
  {
   "cell_type": "code",
   "execution_count": 21,
   "id": "20451fa5",
   "metadata": {},
   "outputs": [
    {
     "name": "stdout",
     "output_type": "stream",
     "text": [
      "Since for D-test, D-retest  both are normal, so student's t test will be appropriate\n",
      "Value for student's t test  0.41625487170630604\n"
     ]
    }
   ],
   "source": [
    "# 3a\n",
    "print(\"Since for D-test, D-retest  both are normal, so student's t test will be appropriate\")\n",
    "print(\"Value for student's t test \",stats.ttest_ind(D_test,D_retest)[1])\n",
    "#print(stats.ttest_rel(A,B)[1])"
   ]
  },
  {
   "cell_type": "code",
   "execution_count": 22,
   "id": "0524d537",
   "metadata": {},
   "outputs": [
    {
     "name": "stdout",
     "output_type": "stream",
     "text": [
      "Since for E-test, E-retest  both are not normal, so Mann Whitney U test or Wilcoxon test will be appropriate\n",
      "Value for mann whitney  0.3705670479246522\n",
      "Value for Wilcoxon  0.03125\n"
     ]
    }
   ],
   "source": [
    "#3b\n",
    "print(\"Since for E-test, E-retest  both are not normal, so Mann Whitney U test or Wilcoxon test will be appropriate\")\n",
    "\n",
    "print(\"Value for mann whitney \",stats.mannwhitneyu(E_test, E_retest, use_continuity=True,alternative='two-sided')[1])\n",
    "\n",
    "print(\"Value for Wilcoxon \",stats.wilcoxon(E_test, E_retest,correction=True)[1])\n",
    "#print(stats.ttest_rel(A,B)[1])"
   ]
  },
  {
   "cell_type": "code",
   "execution_count": 23,
   "id": "cebd29f6",
   "metadata": {},
   "outputs": [
    {
     "name": "stdout",
     "output_type": "stream",
     "text": [
      "Since for D-test, E-test  both are normal, so student's t test will be appropriate\n",
      "Value for student's t test  0.6040909505950958\n"
     ]
    }
   ],
   "source": [
    "#3c \n",
    "print(\"Since for D-test, E-test  both are normal, so student's t test will be appropriate\")\n",
    "print(\"Value for student's t test \",stats.ttest_ind(D_test,E_test)[1])\n",
    "#print(stats.ttest_rel(A,B)[1])"
   ]
  },
  {
   "cell_type": "code",
   "execution_count": 24,
   "id": "ff39ac61",
   "metadata": {},
   "outputs": [
    {
     "name": "stdout",
     "output_type": "stream",
     "text": [
      "Since for D-retest, E-retest  both are not normal, so Mann Whitney U test or Wilcoxon test will be appropriate\n",
      "Value for mann whitney  0.9429784240576059\n"
     ]
    }
   ],
   "source": [
    "# 3d\n",
    "print(\"Since for D-retest, E-retest  both are not normal, so Mann Whitney U test or Wilcoxon test will be appropriate\")\n",
    "\n",
    "print(\"Value for mann whitney \",stats.mannwhitneyu(D_retest, E_retest, use_continuity=True,alternative='two-sided')[1])\n",
    "#Uneven length for wilcoxon\n",
    "#print(\"Value for Wilcoxon \",stats.wilcoxon(D_retest, E_retest,correction=True)[1])"
   ]
  },
  {
   "cell_type": "code",
   "execution_count": null,
   "id": "19d96a21",
   "metadata": {},
   "outputs": [],
   "source": []
  },
  {
   "cell_type": "code",
   "execution_count": 25,
   "id": "0a972d8c",
   "metadata": {},
   "outputs": [
    {
     "name": "stdout",
     "output_type": "stream",
     "text": [
      "Spearmann  SignificanceResult(statistic=0.9369749612033814, pvalue=0.0018510301964418906)\n",
      "Pearson  PearsonRResult(statistic=0.9773664314916523, pvalue=0.00014623458861244028)\n"
     ]
    }
   ],
   "source": [
    "print(\"Spearmann \",stats.spearmanr( E_test, E_retest  ))\n",
    "print(\"Pearson \",stats.pearsonr( E_test, E_retest ))"
   ]
  },
  {
   "cell_type": "code",
   "execution_count": null,
   "id": "2db3f53f",
   "metadata": {},
   "outputs": [],
   "source": []
  },
  {
   "cell_type": "markdown",
   "id": "320e4e5e",
   "metadata": {},
   "source": [
    "use rank method for ranking. and then form a new list and see the relation\n",
    ".rank(average..)"
   ]
  },
  {
   "cell_type": "markdown",
   "id": "b0c6a633",
   "metadata": {},
   "source": [
    "# 4\n"
   ]
  },
  {
   "cell_type": "code",
   "execution_count": 34,
   "id": "b6635325",
   "metadata": {},
   "outputs": [
    {
     "name": "stdout",
     "output_type": "stream",
     "text": [
      "PearsonRResult(statistic=0.9773664314916523, pvalue=0.00014623458861244028)\n",
      "\n",
      "(0.9369749612033814, 0.0018510301964418906)\n",
      "\n",
      "PearsonRResult(statistic=0.9369749612033811, pvalue=0.0018510301964419155)\n",
      "\n"
     ]
    }
   ],
   "source": [
    "E_test_series=pd.Series(E_test)\n",
    "E_retrest_series=pd.Series(E_retest)\n",
    "\n",
    "# a)\n",
    "print(stats.pearsonr(E_test_series, E_retrest_series), end=\"\\n\\n\")\n",
    "\n",
    "# b)\n",
    "print(tuple(stats.spearmanr(E_test_series, E_retrest_series)), end=\"\\n\\n\")\n",
    "\n",
    "# c)\n",
    "r1 = E_test_series.rank()\n",
    "r2 = E_retrest_series.rank()\n",
    "\n",
    "# d)\n",
    "print(stats.pearsonr(r1, r2), end=\"\\n\\n\")"
   ]
  },
  {
   "cell_type": "markdown",
   "id": "cabbf174",
   "metadata": {},
   "source": [
    "# 5"
   ]
  },
  {
   "cell_type": "code",
   "execution_count": 27,
   "id": "de4d33c9",
   "metadata": {},
   "outputs": [],
   "source": [
    "df=pd.read_csv(\"datasets/utu/SA/simulated_data_2_5.csv\", index_col=0)"
   ]
  },
  {
   "cell_type": "code",
   "execution_count": 28,
   "id": "8a17edca",
   "metadata": {},
   "outputs": [
    {
     "data": {
      "text/html": [
       "<div>\n",
       "<style scoped>\n",
       "    .dataframe tbody tr th:only-of-type {\n",
       "        vertical-align: middle;\n",
       "    }\n",
       "\n",
       "    .dataframe tbody tr th {\n",
       "        vertical-align: top;\n",
       "    }\n",
       "\n",
       "    .dataframe thead th {\n",
       "        text-align: right;\n",
       "    }\n",
       "</style>\n",
       "<table border=\"1\" class=\"dataframe\">\n",
       "  <thead>\n",
       "    <tr style=\"text-align: right;\">\n",
       "      <th></th>\n",
       "      <th>F</th>\n",
       "      <th>G</th>\n",
       "      <th>H</th>\n",
       "      <th>I</th>\n",
       "    </tr>\n",
       "  </thead>\n",
       "  <tbody>\n",
       "    <tr>\n",
       "      <th>1</th>\n",
       "      <td>27.42</td>\n",
       "      <td>24.02</td>\n",
       "      <td>0.00</td>\n",
       "      <td>9.96</td>\n",
       "    </tr>\n",
       "    <tr>\n",
       "      <th>2</th>\n",
       "      <td>-11.29</td>\n",
       "      <td>20.90</td>\n",
       "      <td>4.67</td>\n",
       "      <td>5.66</td>\n",
       "    </tr>\n",
       "    <tr>\n",
       "      <th>3</th>\n",
       "      <td>7.26</td>\n",
       "      <td>-20.06</td>\n",
       "      <td>6.34</td>\n",
       "      <td>15.53</td>\n",
       "    </tr>\n",
       "    <tr>\n",
       "      <th>4</th>\n",
       "      <td>12.66</td>\n",
       "      <td>36.97</td>\n",
       "      <td>8.12</td>\n",
       "      <td>6.08</td>\n",
       "    </tr>\n",
       "    <tr>\n",
       "      <th>5</th>\n",
       "      <td>8.09</td>\n",
       "      <td>-13.34</td>\n",
       "      <td>1.25</td>\n",
       "      <td>10.31</td>\n",
       "    </tr>\n",
       "    <tr>\n",
       "      <th>...</th>\n",
       "      <td>...</td>\n",
       "      <td>...</td>\n",
       "      <td>...</td>\n",
       "      <td>...</td>\n",
       "    </tr>\n",
       "    <tr>\n",
       "      <th>96</th>\n",
       "      <td>-17.22</td>\n",
       "      <td>21.72</td>\n",
       "      <td>3.05</td>\n",
       "      <td>14.14</td>\n",
       "    </tr>\n",
       "    <tr>\n",
       "      <th>97</th>\n",
       "      <td>-22.63</td>\n",
       "      <td>8.08</td>\n",
       "      <td>3.67</td>\n",
       "      <td>10.70</td>\n",
       "    </tr>\n",
       "    <tr>\n",
       "      <th>98</th>\n",
       "      <td>-29.18</td>\n",
       "      <td>11.73</td>\n",
       "      <td>5.73</td>\n",
       "      <td>18.91</td>\n",
       "    </tr>\n",
       "    <tr>\n",
       "      <th>99</th>\n",
       "      <td>1.60</td>\n",
       "      <td>36.30</td>\n",
       "      <td>4.19</td>\n",
       "      <td>18.24</td>\n",
       "    </tr>\n",
       "    <tr>\n",
       "      <th>100</th>\n",
       "      <td>13.06</td>\n",
       "      <td>2.58</td>\n",
       "      <td>0.75</td>\n",
       "      <td>9.12</td>\n",
       "    </tr>\n",
       "  </tbody>\n",
       "</table>\n",
       "<p>100 rows × 4 columns</p>\n",
       "</div>"
      ],
      "text/plain": [
       "         F      G     H      I\n",
       "1    27.42  24.02  0.00   9.96\n",
       "2   -11.29  20.90  4.67   5.66\n",
       "3     7.26 -20.06  6.34  15.53\n",
       "4    12.66  36.97  8.12   6.08\n",
       "5     8.09 -13.34  1.25  10.31\n",
       "..     ...    ...   ...    ...\n",
       "96  -17.22  21.72  3.05  14.14\n",
       "97  -22.63   8.08  3.67  10.70\n",
       "98  -29.18  11.73  5.73  18.91\n",
       "99    1.60  36.30  4.19  18.24\n",
       "100  13.06   2.58  0.75   9.12\n",
       "\n",
       "[100 rows x 4 columns]"
      ]
     },
     "execution_count": 28,
     "metadata": {},
     "output_type": "execute_result"
    }
   ],
   "source": [
    "df"
   ]
  },
  {
   "cell_type": "code",
   "execution_count": 29,
   "id": "bfc65fee",
   "metadata": {},
   "outputs": [
    {
     "name": "stdout",
     "output_type": "stream",
     "text": [
      "Spearmann  SignificanceResult(statistic=0.05065121707558674, pvalue=0.6167473500377234)\n",
      "Pearson  PearsonRResult(statistic=0.031276709760819615, pvalue=0.7573896651044838)\n"
     ]
    }
   ],
   "source": [
    "print(\"Spearmann \",stats.spearmanr(df[\"F\"],df[\"G\"]))\n",
    "#check if these are nornally dist or not so find P\n",
    "#  pearson is used for normal dist and spearman otherwise.\n",
    "print(\"Pearson \",stats.pearsonr(df[\"F\"],df[\"G\"]))"
   ]
  },
  {
   "cell_type": "code",
   "execution_count": 30,
   "id": "1a406e24",
   "metadata": {},
   "outputs": [
    {
     "name": "stdout",
     "output_type": "stream",
     "text": [
      "Spearmann  SignificanceResult(statistic=-0.2056071963551348, pvalue=0.04014993793639168)\n",
      "Pearson  PearsonRResult(statistic=-0.14484643591125076, pvalue=0.1504771286020554)\n"
     ]
    }
   ],
   "source": [
    "print(\"Spearmann \",stats.spearmanr(df[\"F\"],df[\"H\"]))\n",
    "print(\"Pearson \",stats.pearsonr(df[\"F\"],df[\"H\"]))"
   ]
  },
  {
   "cell_type": "code",
   "execution_count": 31,
   "id": "29fbc83a",
   "metadata": {},
   "outputs": [
    {
     "name": "stdout",
     "output_type": "stream",
     "text": [
      "Spearmann  SignificanceResult(statistic=0.09838701934793813, pvalue=0.33012316364786465)\n",
      "Pearson  PearsonRResult(statistic=0.06904138113464377, pvalue=0.49489205642260536)\n"
     ]
    }
   ],
   "source": [
    "print(\"Spearmann \",stats.spearmanr(df[\"F\"],df[\"I\"]))\n",
    "print(\"Pearson \",stats.pearsonr(df[\"F\"],df[\"I\"]))"
   ]
  },
  {
   "cell_type": "code",
   "execution_count": null,
   "id": "b36cc6ac",
   "metadata": {},
   "outputs": [],
   "source": []
  },
  {
   "cell_type": "code",
   "execution_count": null,
   "id": "e197f524",
   "metadata": {},
   "outputs": [],
   "source": []
  },
  {
   "cell_type": "code",
   "execution_count": null,
   "id": "c8ba23ae",
   "metadata": {},
   "outputs": [],
   "source": []
  },
  {
   "cell_type": "code",
   "execution_count": null,
   "id": "0f3d5734",
   "metadata": {},
   "outputs": [],
   "source": []
  },
  {
   "cell_type": "code",
   "execution_count": null,
   "id": "8048a747",
   "metadata": {},
   "outputs": [],
   "source": []
  },
  {
   "cell_type": "code",
   "execution_count": null,
   "id": "702f2748",
   "metadata": {},
   "outputs": [],
   "source": []
  }
 ],
 "metadata": {
  "kernelspec": {
   "display_name": "Python 3 (ipykernel)",
   "language": "python",
   "name": "python3"
  },
  "language_info": {
   "codemirror_mode": {
    "name": "ipython",
    "version": 3
   },
   "file_extension": ".py",
   "mimetype": "text/x-python",
   "name": "python",
   "nbconvert_exporter": "python",
   "pygments_lexer": "ipython3",
   "version": "3.11.3"
  }
 },
 "nbformat": 4,
 "nbformat_minor": 5
}
