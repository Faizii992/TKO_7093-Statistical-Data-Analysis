{
 "cells": [
  {
   "cell_type": "markdown",
   "id": "37291540",
   "metadata": {
    "id": "37291540"
   },
   "source": [
    "# TKO_7093 Statistical Data Analysis 2023 Project\n",
    "\n"
   ]
  },
  {
   "cell_type": "markdown",
   "id": "9026b053",
   "metadata": {
    "id": "9026b053"
   },
   "source": [
    "### **Report on the course Statistical Data Analysis project for the autumn 2023 semester at UTU.**\n",
    "\n",
    "The course instructor launched a rental service of electric bikes this year and asked us to analyse the data collected. He gave us the file bikes.data from our maintenance team. They said it contains all the data recorded by their bikes. Since there is no information about who rented the bikes, we can assume that each trip was made by a different person.  The following are the variables of the dataset and their description\n"
   ]
  },
  {
   "attachments": {
    "descrip.PNG": {
     "image/png": "[encoded data removed]"
    }
   },
   "cell_type": "markdown",
   "id": "63af1130",
   "metadata": {
    "id": "63af1130"
   },
   "source": [
    "![descrip.PNG](attachment:descrip.PNG)"
   ]
  },
  {
   "cell_type": "markdown",
   "id": "e54460e6",
   "metadata": {
    "id": "e54460e6"
   },
   "source": [
    "## **Importing necessary libraries**"
   ]
  },
  {
   "cell_type": "code",
   "execution_count": 1,
   "id": "af622642",
   "metadata": {
    "id": "af622642"
   },
   "outputs": [],
   "source": [
    "import pandas as pd\n",
    "import matplotlib.pyplot as plt\n",
    "import numpy as np\n",
    "import seaborn as sns\n",
    "from scipy import stats"
   ]
  },
  {
   "cell_type": "markdown",
   "id": "852a2d88",
   "metadata": {
    "id": "852a2d88"
   },
   "source": [
    "\n",
    "## **Data Preparation**\n",
    "\n",
    "The file bikes.data contains data that was collected directly from the recording devices of the bikes. No preprocessing or filtering has been done. The data may therefore contain irrelevant records, such as customers only trying out how bikes can be rented with our Android app and cancelling the transaction without actually riding the bike. Furthermore, the maintenance team reported that they had quite a few technical problems with the bikes, which may have resulted in invalid values in the data. So, you need to load and clean up the data before you can perform the statistical analysis."
   ]
  },
  {
   "cell_type": "markdown",
   "id": "535decfd",
   "metadata": {
    "id": "535decfd"
   },
   "source": [
    "## 1. Load the data from the file bikes.data. Check that the variables match the documentation above."
   ]
  },
  {
   "cell_type": "code",
   "execution_count": 2,
   "id": "f18db3ad",
   "metadata": {
    "id": "f18db3ad",
    "outputId": "f5edc058-72e6-4c15-d069-dddb62ef627a"
   },
   "outputs": [
    {
     "data": {
      "text/html": [
       "<div>\n",
       "<style scoped>\n",
       "    .dataframe tbody tr th:only-of-type {\n",
       "        vertical-align: middle;\n",
       "    }\n",
       "\n",
       "    .dataframe tbody tr th {\n",
       "        vertical-align: top;\n",
       "    }\n",
       "\n",
       "    .dataframe thead th {\n",
       "        text-align: right;\n",
       "    }\n",
       "</style>\n",
       "<table border=\"1\" class=\"dataframe\">\n",
       "  <thead>\n",
       "    <tr style=\"text-align: right;\">\n",
       "      <th></th>\n",
       "      <th>ticket</th>\n",
       "      <th>cost</th>\n",
       "      <th>month</th>\n",
       "      <th>location_from</th>\n",
       "      <th>location_to</th>\n",
       "      <th>duration</th>\n",
       "      <th>distance</th>\n",
       "      <th>assistance</th>\n",
       "      <th>energy_used</th>\n",
       "      <th>energy_collected</th>\n",
       "    </tr>\n",
       "  </thead>\n",
       "  <tbody>\n",
       "    <tr>\n",
       "      <th>0</th>\n",
       "      <td>single</td>\n",
       "      <td>0.35</td>\n",
       "      <td>9</td>\n",
       "      <td>MICROTEKNIA</td>\n",
       "      <td>PUIJONLAAKSO</td>\n",
       "      <td>411.0</td>\n",
       "      <td>2150</td>\n",
       "      <td>1</td>\n",
       "      <td>19.0</td>\n",
       "      <td>2.7</td>\n",
       "    </tr>\n",
       "    <tr>\n",
       "      <th>1</th>\n",
       "      <td>single</td>\n",
       "      <td>1.20</td>\n",
       "      <td>5</td>\n",
       "      <td>SATAMA</td>\n",
       "      <td>KEILANKANTA</td>\n",
       "      <td>1411.0</td>\n",
       "      <td>7130</td>\n",
       "      <td>1</td>\n",
       "      <td>53.8</td>\n",
       "      <td>15.3</td>\n",
       "    </tr>\n",
       "    <tr>\n",
       "      <th>2</th>\n",
       "      <td>savonia</td>\n",
       "      <td>0.00</td>\n",
       "      <td>9</td>\n",
       "      <td>TASAVALLANKATU</td>\n",
       "      <td>NEULAMÄKI</td>\n",
       "      <td>1308.0</td>\n",
       "      <td>5420</td>\n",
       "      <td>1</td>\n",
       "      <td>43.0</td>\n",
       "      <td>9.9</td>\n",
       "    </tr>\n",
       "    <tr>\n",
       "      <th>3</th>\n",
       "      <td>savonia</td>\n",
       "      <td>0.00</td>\n",
       "      <td>10</td>\n",
       "      <td>TORI</td>\n",
       "      <td>KAUPPAKATU</td>\n",
       "      <td>1036.0</td>\n",
       "      <td>1180</td>\n",
       "      <td>1</td>\n",
       "      <td>6.5</td>\n",
       "      <td>2.1</td>\n",
       "    </tr>\n",
       "    <tr>\n",
       "      <th>4</th>\n",
       "      <td>single</td>\n",
       "      <td>0.30</td>\n",
       "      <td>9</td>\n",
       "      <td>TORI</td>\n",
       "      <td>TORI</td>\n",
       "      <td>319.0</td>\n",
       "      <td>1120</td>\n",
       "      <td>1</td>\n",
       "      <td>13.7</td>\n",
       "      <td>1.2</td>\n",
       "    </tr>\n",
       "    <tr>\n",
       "      <th>5</th>\n",
       "      <td>single</td>\n",
       "      <td>1.00</td>\n",
       "      <td>6</td>\n",
       "      <td>NEULAMÄKI</td>\n",
       "      <td>TORI</td>\n",
       "      <td>1185.0</td>\n",
       "      <td>3280</td>\n",
       "      <td>1</td>\n",
       "      <td>21.2</td>\n",
       "      <td>0.0</td>\n",
       "    </tr>\n",
       "    <tr>\n",
       "      <th>6</th>\n",
       "      <td>single</td>\n",
       "      <td>0.70</td>\n",
       "      <td>8</td>\n",
       "      <td>KEILANKANTA</td>\n",
       "      <td>TASAVALLANKATU</td>\n",
       "      <td>817.0</td>\n",
       "      <td>4470</td>\n",
       "      <td>1</td>\n",
       "      <td>27.6</td>\n",
       "      <td>0.6</td>\n",
       "    </tr>\n",
       "    <tr>\n",
       "      <th>7</th>\n",
       "      <td>single</td>\n",
       "      <td>0.35</td>\n",
       "      <td>7</td>\n",
       "      <td>PUIJONLAAKSO</td>\n",
       "      <td>MICROTEKNIA</td>\n",
       "      <td>413.0</td>\n",
       "      <td>2150</td>\n",
       "      <td>1</td>\n",
       "      <td>14.5</td>\n",
       "      <td>10.2</td>\n",
       "    </tr>\n",
       "    <tr>\n",
       "      <th>8</th>\n",
       "      <td>season</td>\n",
       "      <td>0.00</td>\n",
       "      <td>6</td>\n",
       "      <td>NEULAMÄKI</td>\n",
       "      <td>TORI</td>\n",
       "      <td>797.0</td>\n",
       "      <td>4490</td>\n",
       "      <td>1</td>\n",
       "      <td>25.4</td>\n",
       "      <td>12.0</td>\n",
       "    </tr>\n",
       "    <tr>\n",
       "      <th>9</th>\n",
       "      <td>savonia</td>\n",
       "      <td>0.00</td>\n",
       "      <td>9</td>\n",
       "      <td>TORI</td>\n",
       "      <td>TORI</td>\n",
       "      <td>5.0</td>\n",
       "      <td>0</td>\n",
       "      <td>0</td>\n",
       "      <td>0.0</td>\n",
       "      <td>0.0</td>\n",
       "    </tr>\n",
       "  </tbody>\n",
       "</table>\n",
       "</div>"
      ],
      "text/plain": [
       "    ticket  cost  month   location_from     location_to  duration  distance  \\\n",
       "0   single  0.35      9     MICROTEKNIA    PUIJONLAAKSO     411.0      2150   \n",
       "1   single  1.20      5          SATAMA     KEILANKANTA    1411.0      7130   \n",
       "2  savonia  0.00      9  TASAVALLANKATU       NEULAMÄKI    1308.0      5420   \n",
       "3  savonia  0.00     10            TORI      KAUPPAKATU    1036.0      1180   \n",
       "4   single  0.30      9            TORI            TORI     319.0      1120   \n",
       "5   single  1.00      6       NEULAMÄKI            TORI    1185.0      3280   \n",
       "6   single  0.70      8     KEILANKANTA  TASAVALLANKATU     817.0      4470   \n",
       "7   single  0.35      7    PUIJONLAAKSO     MICROTEKNIA     413.0      2150   \n",
       "8   season  0.00      6       NEULAMÄKI            TORI     797.0      4490   \n",
       "9  savonia  0.00      9            TORI            TORI       5.0         0   \n",
       "\n",
       "   assistance  energy_used  energy_collected  \n",
       "0           1         19.0               2.7  \n",
       "1           1         53.8              15.3  \n",
       "2           1         43.0               9.9  \n",
       "3           1          6.5               2.1  \n",
       "4           1         13.7               1.2  \n",
       "5           1         21.2               0.0  \n",
       "6           1         27.6               0.6  \n",
       "7           1         14.5              10.2  \n",
       "8           1         25.4              12.0  \n",
       "9           0          0.0               0.0  "
      ]
     },
     "execution_count": 2,
     "metadata": {},
     "output_type": "execute_result"
    }
   ],
   "source": [
    "bikes=pd.read_csv(\"bikes.data\", sep=\",\")\n",
    "bikes.head(10)"
   ]
  },
  {
   "cell_type": "markdown",
   "id": "2de5d46a",
   "metadata": {
    "id": "2de5d46a"
   },
   "source": [
    "Here, we have loaded our data and visualized the top 10 rows and analyzed that the variables match the documentation."
   ]
  },
  {
   "cell_type": "code",
   "execution_count": 3,
   "id": "b7515ea2",
   "metadata": {
    "id": "b7515ea2"
   },
   "outputs": [],
   "source": [
    "quantitative = ['cost', 'duration', 'distance', 'energy_used', 'energy_collected']\n",
    "categorical = ['ticket', 'month', 'location_from', 'location_to', 'assistance']"
   ]
  },
  {
   "cell_type": "markdown",
   "id": "6e2d47ed",
   "metadata": {
    "id": "6e2d47ed"
   },
   "source": [
    "For our data, the categorical values are:\n",
    "ticket, month, location_from, location_to, assistance\n",
    "\n",
    "and quantitative values are:\n",
    "cost, distance, duration, energy_used, energy_collected\n",
    "\n",
    "We also checked the data types if they are appropriate."
   ]
  },
  {
   "cell_type": "code",
   "execution_count": 4,
   "id": "da9f731e",
   "metadata": {
    "id": "da9f731e",
    "outputId": "1c45a82a-c113-412a-9c65-3b498a061a2c"
   },
   "outputs": [
    {
     "name": "stdout",
     "output_type": "stream",
     "text": [
      "Data types before alteration: \n",
      "ticket               object\n",
      "cost                float64\n",
      "month                 int64\n",
      "location_from        object\n",
      "location_to          object\n",
      "duration            float64\n",
      "distance              int64\n",
      "assistance            int64\n",
      "energy_used         float64\n",
      "energy_collected    float64\n",
      "dtype: object\n"
     ]
    }
   ],
   "source": [
    "print(\"Data types before alteration: \")\n",
    "print(bikes.dtypes)"
   ]
  },
  {
   "cell_type": "markdown",
   "id": "a69f258d",
   "metadata": {
    "id": "a69f258d"
   },
   "source": [
    "There are undoubtedly some categorical and some qualitative variables present, thus the next step will be to change the categorical variable columns to categorical type and verify their types and distinct values. So we iterate through each categorical column and convert them as category since they were object type before. No change has to be done to the quantitative ones as they were already in their appropriate form."
   ]
  },
  {
   "cell_type": "code",
   "execution_count": 5,
   "id": "7b14febb",
   "metadata": {
    "id": "7b14febb",
    "outputId": "ca5930ec-28fa-4e33-e3a4-21cf335f329b"
   },
   "outputs": [
    {
     "name": "stdout",
     "output_type": "stream",
     "text": [
      "Data types after alteration: \n",
      "ticket              category\n",
      "cost                 float64\n",
      "month               category\n",
      "location_from       category\n",
      "location_to         category\n",
      "duration             float64\n",
      "distance               int64\n",
      "assistance          category\n",
      "energy_used          float64\n",
      "energy_collected     float64\n",
      "dtype: object\n"
     ]
    }
   ],
   "source": [
    "for col in categorical:\n",
    "    bikes[col]=bikes[col].astype(\"category\")\n",
    "\n",
    "print(\"Data types after alteration: \")\n",
    "print(bikes.dtypes)"
   ]
  },
  {
   "cell_type": "markdown",
   "id": "cc4372dc",
   "metadata": {
    "id": "cc4372dc"
   },
   "source": [
    "In order to find out any anomalies in the data, we find iut how many and what kinds of values/categories exist for different columns and also find unique values for some columns."
   ]
  },
  {
   "cell_type": "code",
   "execution_count": 6,
   "id": "a9302d97",
   "metadata": {
    "id": "a9302d97",
    "outputId": "74b644f1-45a5-4055-a53f-cec4e1878257"
   },
   "outputs": [
    {
     "data": {
      "text/plain": [
       "ticket   cost    month  location_from   location_to     duration  distance  assistance  energy_used  energy_collected\n",
       "single   0.75    7      SATAMA          PUIJONLAAKSO    887.0     3360      1           45.0         5.7                 2\n",
       "         0.05    6      PUIJONLAAKSO    PUIJONLAAKSO    21.0      0         1           0.0          0.0                 2\n",
       "savonia  100.00  9      NEULAMÄKI       MICROTEKNIA     25614.0   2310      0           0.0          3.6                 2\n",
       "season   0.00    5      KAUPPAKATU      TASAVALLANKATU  351.0     1610      1           11.9         2.7                 2\n",
       "savonia  0.00    9      NEULAMÄKI       MICROTEKNIA     250.0     1400      0           0.0          6.9                 2\n",
       "                                                                                                                        ..\n",
       "season   0.00    7      TORI            TORI            47.0      0         1           0.0          0.0                 1\n",
       "                                                        22.0      0         1           0.0          0.0                 1\n",
       "                                                        8.0       0         1           0.0          0.0                 1\n",
       "                                        SATAMA          252.0     910       1           1.8          3.3                 1\n",
       "single   100.00  6      TASAVALLANKATU  PIRTTI          22793.0   14690     1           91.3         6.3                 1\n",
       "Length: 1762, dtype: int64"
      ]
     },
     "execution_count": 6,
     "metadata": {},
     "output_type": "execute_result"
    }
   ],
   "source": [
    "bikes.value_counts()"
   ]
  },
  {
   "cell_type": "code",
   "execution_count": 7,
   "id": "94569da3",
   "metadata": {
    "id": "94569da3",
    "outputId": "0084184e-017a-43cc-9661-5319349ce572"
   },
   "outputs": [
    {
     "data": {
      "text/plain": [
       "['MICROTEKNIA', 'SATAMA', 'TASAVALLANKATU', 'TORI', 'NEULAMÄKI', 'KEILANKANTA', 'PUIJONLAAKSO', 'KAUPPAKATU', 'KYS', 'PIRTTI']\n",
       "Categories (10, object): ['KAUPPAKATU', 'KEILANKANTA', 'KYS', 'MICROTEKNIA', ..., 'PUIJONLAAKSO', 'SATAMA', 'TASAVALLANKATU', 'TORI']"
      ]
     },
     "execution_count": 7,
     "metadata": {},
     "output_type": "execute_result"
    }
   ],
   "source": [
    "bikes[\"location_from\"].unique()"
   ]
  },
  {
   "cell_type": "code",
   "execution_count": 8,
   "id": "1f99f690",
   "metadata": {
    "id": "1f99f690",
    "outputId": "fa699b5f-c56c-43b4-d44e-31922ef3c95e"
   },
   "outputs": [
    {
     "data": {
      "text/plain": [
       "['PUIJONLAAKSO', 'KEILANKANTA', 'NEULAMÄKI', 'KAUPPAKATU', 'TORI', 'TASAVALLANKATU', 'MICROTEKNIA', 'SATAMA', 'PIRTTI', 'KYS']\n",
       "Categories (10, object): ['KAUPPAKATU', 'KEILANKANTA', 'KYS', 'MICROTEKNIA', ..., 'PUIJONLAAKSO', 'SATAMA', 'TASAVALLANKATU', 'TORI']"
      ]
     },
     "execution_count": 8,
     "metadata": {},
     "output_type": "execute_result"
    }
   ],
   "source": [
    "bikes[\"location_to\"].unique()"
   ]
  },
  {
   "cell_type": "code",
   "execution_count": 9,
   "id": "5652021e",
   "metadata": {
    "id": "5652021e",
    "outputId": "db0f004a-3b31-4cc9-ae6d-05446b82d949"
   },
   "outputs": [
    {
     "data": {
      "text/plain": [
       "[1, 0]\n",
       "Categories (2, int64): [0, 1]"
      ]
     },
     "execution_count": 9,
     "metadata": {},
     "output_type": "execute_result"
    }
   ],
   "source": [
    "bikes[\"assistance\"].unique()"
   ]
  },
  {
   "cell_type": "markdown",
   "id": "d032a011",
   "metadata": {
    "id": "d032a011"
   },
   "source": [
    "Then we see if there is any null values"
   ]
  },
  {
   "cell_type": "code",
   "execution_count": 10,
   "id": "330c283f",
   "metadata": {
    "id": "330c283f",
    "outputId": "530aa3f2-e89a-48ac-eead-522fb2525585"
   },
   "outputs": [
    {
     "name": "stdout",
     "output_type": "stream",
     "text": [
      "Number of NaN values present: 0\n"
     ]
    }
   ],
   "source": [
    "nan_in_df = bikes.isnull().sum().sum()\n",
    "print('Number of NaN values present: ' + str(nan_in_df))"
   ]
  },
  {
   "cell_type": "code",
   "execution_count": 11,
   "id": "39f410e1",
   "metadata": {
    "id": "39f410e1",
    "outputId": "79f660ef-b1f6-42f5-d9f4-b8e1ada9ee42"
   },
   "outputs": [
    {
     "name": "stdout",
     "output_type": "stream",
     "text": [
      "<class 'pandas.core.frame.DataFrame'>\n",
      "RangeIndex: 1774 entries, 0 to 1773\n",
      "Data columns (total 10 columns):\n",
      " #   Column            Non-Null Count  Dtype   \n",
      "---  ------            --------------  -----   \n",
      " 0   ticket            1774 non-null   category\n",
      " 1   cost              1774 non-null   float64 \n",
      " 2   month             1774 non-null   category\n",
      " 3   location_from     1774 non-null   category\n",
      " 4   location_to       1774 non-null   category\n",
      " 5   duration          1774 non-null   float64 \n",
      " 6   distance          1774 non-null   int64   \n",
      " 7   assistance        1774 non-null   category\n",
      " 8   energy_used       1774 non-null   float64 \n",
      " 9   energy_collected  1774 non-null   float64 \n",
      "dtypes: category(5), float64(4), int64(1)\n",
      "memory usage: 79.4 KB\n"
     ]
    }
   ],
   "source": [
    "bikes.info()"
   ]
  },
  {
   "cell_type": "markdown",
   "id": "14a7e316",
   "metadata": {
    "id": "14a7e316"
   },
   "source": [
    "Then we found out the \"bikes\" DataFrame's information, including the index dtype and columns, non-null data, and memory use."
   ]
  },
  {
   "cell_type": "code",
   "execution_count": 12,
   "id": "25370dde",
   "metadata": {
    "id": "25370dde",
    "outputId": "d2989339-1b17-4249-b721-5ece16d5cab2"
   },
   "outputs": [
    {
     "data": {
      "text/html": [
       "<div>\n",
       "<style scoped>\n",
       "    .dataframe tbody tr th:only-of-type {\n",
       "        vertical-align: middle;\n",
       "    }\n",
       "\n",
       "    .dataframe tbody tr th {\n",
       "        vertical-align: top;\n",
       "    }\n",
       "\n",
       "    .dataframe thead th {\n",
       "        text-align: right;\n",
       "    }\n",
       "</style>\n",
       "<table border=\"1\" class=\"dataframe\">\n",
       "  <thead>\n",
       "    <tr style=\"text-align: right;\">\n",
       "      <th></th>\n",
       "      <th>cost</th>\n",
       "      <th>duration</th>\n",
       "      <th>distance</th>\n",
       "      <th>energy_used</th>\n",
       "      <th>energy_collected</th>\n",
       "    </tr>\n",
       "  </thead>\n",
       "  <tbody>\n",
       "    <tr>\n",
       "      <th>count</th>\n",
       "      <td>1774.000000</td>\n",
       "      <td>1774.000000</td>\n",
       "      <td>1774.000000</td>\n",
       "      <td>1774.000000</td>\n",
       "      <td>1774.000000</td>\n",
       "    </tr>\n",
       "    <tr>\n",
       "      <th>mean</th>\n",
       "      <td>0.491234</td>\n",
       "      <td>671.323563</td>\n",
       "      <td>2460.067644</td>\n",
       "      <td>17.399493</td>\n",
       "      <td>5.639290</td>\n",
       "    </tr>\n",
       "    <tr>\n",
       "      <th>std</th>\n",
       "      <td>4.127344</td>\n",
       "      <td>1141.708627</td>\n",
       "      <td>2352.529305</td>\n",
       "      <td>17.194463</td>\n",
       "      <td>6.379593</td>\n",
       "    </tr>\n",
       "    <tr>\n",
       "      <th>min</th>\n",
       "      <td>0.000000</td>\n",
       "      <td>2.000000</td>\n",
       "      <td>-3380.000000</td>\n",
       "      <td>0.000000</td>\n",
       "      <td>0.000000</td>\n",
       "    </tr>\n",
       "    <tr>\n",
       "      <th>25%</th>\n",
       "      <td>0.000000</td>\n",
       "      <td>245.250000</td>\n",
       "      <td>910.000000</td>\n",
       "      <td>1.425000</td>\n",
       "      <td>0.600000</td>\n",
       "    </tr>\n",
       "    <tr>\n",
       "      <th>50%</th>\n",
       "      <td>0.050000</td>\n",
       "      <td>546.500000</td>\n",
       "      <td>2030.000000</td>\n",
       "      <td>14.350000</td>\n",
       "      <td>3.900000</td>\n",
       "    </tr>\n",
       "    <tr>\n",
       "      <th>75%</th>\n",
       "      <td>0.550000</td>\n",
       "      <td>877.750000</td>\n",
       "      <td>3605.000000</td>\n",
       "      <td>26.900000</td>\n",
       "      <td>8.325000</td>\n",
       "    </tr>\n",
       "    <tr>\n",
       "      <th>max</th>\n",
       "      <td>100.000000</td>\n",
       "      <td>25614.000000</td>\n",
       "      <td>20770.000000</td>\n",
       "      <td>144.900000</td>\n",
       "      <td>56.400000</td>\n",
       "    </tr>\n",
       "  </tbody>\n",
       "</table>\n",
       "</div>"
      ],
      "text/plain": [
       "              cost      duration      distance  energy_used  energy_collected\n",
       "count  1774.000000   1774.000000   1774.000000  1774.000000       1774.000000\n",
       "mean      0.491234    671.323563   2460.067644    17.399493          5.639290\n",
       "std       4.127344   1141.708627   2352.529305    17.194463          6.379593\n",
       "min       0.000000      2.000000  -3380.000000     0.000000          0.000000\n",
       "25%       0.000000    245.250000    910.000000     1.425000          0.600000\n",
       "50%       0.050000    546.500000   2030.000000    14.350000          3.900000\n",
       "75%       0.550000    877.750000   3605.000000    26.900000          8.325000\n",
       "max     100.000000  25614.000000  20770.000000   144.900000         56.400000"
      ]
     },
     "execution_count": 12,
     "metadata": {},
     "output_type": "execute_result"
    }
   ],
   "source": [
    "bikes.describe()"
   ]
  },
  {
   "cell_type": "markdown",
   "id": "d4eb7ebd",
   "metadata": {
    "id": "d4eb7ebd"
   },
   "source": [
    "Then we generated descriptive statistics using Pandas describe() function which is used to display some basic statistical information of a data frame or a sequence of numeric values, such as percentile, mean, standard deviation, min, max, count for different locations and so on. This is usually done not only to have a general overview, but also to find out anomalies in the data."
   ]
  },
  {
   "cell_type": "code",
   "execution_count": 13,
   "id": "4cb5418c",
   "metadata": {
    "id": "4cb5418c"
   },
   "outputs": [],
   "source": [
    "#sns.boxplot(df.distance)"
   ]
  },
  {
   "cell_type": "code",
   "execution_count": null,
   "id": "907ca6dc",
   "metadata": {
    "id": "907ca6dc"
   },
   "outputs": [],
   "source": []
  },
  {
   "cell_type": "markdown",
   "id": "b6b0ef0e",
   "metadata": {
    "id": "b6b0ef0e"
   },
   "source": [
    "## 2. Use both visualisations and numerical summaries to explore the variables. Filter out irrelevant records and process invalid values, if any. Explain why the records are irrelevant or the values invalid. Also explain how the modifications you made to the data fix the problems."
   ]
  },
  {
   "cell_type": "markdown",
   "id": "5c1b5866",
   "metadata": {
    "id": "5c1b5866"
   },
   "source": [
    "So we used both visualisations and numerical summaries to explore the categorical and quantitative variables. We iterate through each type and use seaborn histograms for quantitative variables and seaborn countplot for categorical variables."
   ]
  },
  {
   "cell_type": "code",
   "execution_count": 14,
   "id": "5968aaf8",
   "metadata": {
    "id": "5968aaf8",
    "outputId": "a68f631b-d4fd-477b-8535-39f91a3fda64"
   },
   "outputs": [
    {
     "data": {
      "text/plain": [
       "<Figure size 640x480 with 0 Axes>"
      ]
     },
     "metadata": {},
     "output_type": "display_data"
    },
    {
     "data": {
      "image/png": "[encoded data removed]",
      "text/plain": [
       "<Figure size 1200x800 with 1 Axes>"
      ]
     },
     "metadata": {},
     "output_type": "display_data"
    },
    {
     "data": {
      "text/plain": [
       "<Figure size 640x480 with 0 Axes>"
      ]
     },
     "metadata": {},
     "output_type": "display_data"
    },
    {
     "data": {
      "image/png": "[encoded data removed]",
      "text/plain": [
       "<Figure size 1200x800 with 1 Axes>"
      ]
     },
     "metadata": {},
     "output_type": "display_data"
    },
    {
     "data": {
      "text/plain": [
       "<Figure size 640x480 with 0 Axes>"
      ]
     },
     "metadata": {},
     "output_type": "display_data"
    },
    {
     "data": {
      "image/png": "[encoded data removed]",
      "text/plain": [
       "<Figure size 1200x800 with 1 Axes>"
      ]
     },
     "metadata": {},
     "output_type": "display_data"
    },
    {
     "data": {
      "text/plain": [
       "<Figure size 640x480 with 0 Axes>"
      ]
     },
     "metadata": {},
     "output_type": "display_data"
    },
    {
     "data": {
      "image/png": "[encoded data removed]",
      "text/plain": [
       "<Figure size 1200x800 with 1 Axes>"
      ]
     },
     "metadata": {},
     "output_type": "display_data"
    },
    {
     "data": {
      "text/plain": [
       "<Figure size 640x480 with 0 Axes>"
      ]
     },
     "metadata": {},
     "output_type": "display_data"
    },
    {
     "data": {
      "image/png": "[encoded data removed]",
      "text/plain": [
       "<Figure size 1200x800 with 1 Axes>"
      ]
     },
     "metadata": {},
     "output_type": "display_data"
    }
   ],
   "source": [
    "\n",
    "\n",
    "for col in quantitative:\n",
    "    plt.figure()\n",
    "    plt.tight_layout()\n",
    "    fig, ax = plt.subplots(figsize=(12, 8))\n",
    "    sns.histplot(data=bikes, x=col, kde=True, ax=ax)\n",
    "\n",
    "\n",
    "\n",
    "\n"
   ]
  },
  {
   "cell_type": "code",
   "execution_count": null,
   "id": "1e785b12",
   "metadata": {
    "id": "1e785b12"
   },
   "outputs": [],
   "source": []
  },
  {
   "cell_type": "code",
   "execution_count": 15,
   "id": "941bb22f",
   "metadata": {
    "id": "941bb22f",
    "outputId": "ce8dcf2f-d720-4bab-f398-dba1d00a0c9d"
   },
   "outputs": [
    {
     "data": {
      "text/plain": [
       "<Figure size 640x480 with 0 Axes>"
      ]
     },
     "metadata": {},
     "output_type": "display_data"
    },
    {
     "data": {
      "image/png": "[encoded data removed]",
      "text/plain": [
       "<Figure size 1300x800 with 1 Axes>"
      ]
     },
     "metadata": {},
     "output_type": "display_data"
    },
    {
     "data": {
      "text/plain": [
       "<Figure size 640x480 with 0 Axes>"
      ]
     },
     "metadata": {},
     "output_type": "display_data"
    },
    {
     "data": {
      "image/png": "[encoded data removed]",
      "text/plain": [
       "<Figure size 1300x800 with 1 Axes>"
      ]
     },
     "metadata": {},
     "output_type": "display_data"
    },
    {
     "data": {
      "text/plain": [
       "<Figure size 640x480 with 0 Axes>"
      ]
     },
     "metadata": {},
     "output_type": "display_data"
    },
    {
     "data": {
      "image/png": "[encoded data removed]",
      "text/plain": [
       "<Figure size 1300x800 with 1 Axes>"
      ]
     },
     "metadata": {},
     "output_type": "display_data"
    },
    {
     "data": {
      "text/plain": [
       "<Figure size 640x480 with 0 Axes>"
      ]
     },
     "metadata": {},
     "output_type": "display_data"
    },
    {
     "data": {
      "image/png": "[encoded data removed]",
      "text/plain": [
       "<Figure size 1300x800 with 1 Axes>"
      ]
     },
     "metadata": {},
     "output_type": "display_data"
    },
    {
     "data": {
      "text/plain": [
       "<Figure size 640x480 with 0 Axes>"
      ]
     },
     "metadata": {},
     "output_type": "display_data"
    },
    {
     "data": {
      "image/png": "[encoded data removed]",
      "text/plain": [
       "<Figure size 1300x800 with 1 Axes>"
      ]
     },
     "metadata": {},
     "output_type": "display_data"
    }
   ],
   "source": [
    "\n",
    "for col in categorical:\n",
    "    plt.figure()\n",
    "    plt.tight_layout()\n",
    "    fig, ax = plt.subplots(figsize=(13, 8))\n",
    "    sns.countplot(data=bikes, x=bikes[col], ax=ax)\n",
    "\n"
   ]
  },
  {
   "cell_type": "markdown",
   "id": "5f57018f",
   "metadata": {
    "id": "5f57018f"
   },
   "source": [
    "Data filtering helps us eliminate noise, focus on key information, and find trends or outliers in your data. It also entails deleting unnecessary data, such as duplicates or irrelevant information, and leaving only the data required for analysis or decision-making. It also aids in faster computation and usage of less memory."
   ]
  },
  {
   "cell_type": "markdown",
   "id": "a5e5c5cb",
   "metadata": {
    "id": "a5e5c5cb"
   },
   "source": [
    "In the descriptive statistics mentioned before, the minimum distance was negative despite the fact that traveled distance cannot be negative. Thus, we determine how many occurrences have negative distance values."
   ]
  },
  {
   "cell_type": "code",
   "execution_count": 16,
   "id": "ace13a63",
   "metadata": {
    "id": "ace13a63",
    "outputId": "fd6c7fde-659a-479f-a7f1-7b948c9870ea"
   },
   "outputs": [
    {
     "name": "stdout",
     "output_type": "stream",
     "text": [
      "Negative distances are :\n",
      "23      -150\n",
      "60       -20\n",
      "62       -30\n",
      "96       -10\n",
      "125      -20\n",
      "242     -180\n",
      "284      -50\n",
      "295      -60\n",
      "318     -880\n",
      "322      -10\n",
      "384      -10\n",
      "410      -10\n",
      "420      -20\n",
      "446      -30\n",
      "462    -1770\n",
      "474     -270\n",
      "494     -180\n",
      "520      -10\n",
      "576    -1770\n",
      "589      -20\n",
      "639     -110\n",
      "738      -60\n",
      "808     -130\n",
      "872     -870\n",
      "977     -240\n",
      "1002     -50\n",
      "1046    -210\n",
      "1061    -220\n",
      "1076     -50\n",
      "1095     -30\n",
      "1145    -240\n",
      "1259     -30\n",
      "1342     -50\n",
      "1446     -40\n",
      "1563   -3380\n",
      "1607    -230\n",
      "1617     -80\n",
      "1636   -1440\n",
      "1680     -20\n",
      "Name: distance, dtype: int64\n",
      "Number of negative distances  39\n"
     ]
    }
   ],
   "source": [
    "negative_distance_val=bikes.loc[bikes[\"distance\"]<0]\n",
    "negative_distance_indx=negative_distance_val.index\n",
    "print(\"Negative distances are :\")\n",
    "print(negative_distance_val.loc[negative_distance_indx, \"distance\"])\n",
    "print(\"Number of negative distances \", negative_distance_val.shape[0])"
   ]
  },
  {
   "cell_type": "code",
   "execution_count": null,
   "id": "ed0cf2de",
   "metadata": {
    "id": "ed0cf2de"
   },
   "outputs": [],
   "source": []
  },
  {
   "cell_type": "markdown",
   "id": "86cb800e",
   "metadata": {
    "id": "86cb800e"
   },
   "source": [
    "We presume that the negative distance values were mistakenly flipped from positive to negative for the values that contain negative distance values. So we look for the absolute values(using abs() function) to make them positive and see if there are any negative values left. So we have chosen to replace those negative distances with a suitable value."
   ]
  },
  {
   "cell_type": "code",
   "execution_count": 17,
   "id": "1d32b15c",
   "metadata": {
    "id": "1d32b15c"
   },
   "outputs": [],
   "source": [
    "for i in negative_distance_indx:\n",
    "    bikes[\"distance\"].replace( bikes.loc[i,\"distance\"] , abs(bikes.loc[i,\"distance\"]),inplace=True)\n",
    "\n",
    "#bikes.drop(negative_duration_indx, inplace=True)\n",
    "#print(\"Number of negative distance :: \", bikes.shape[0])\n",
    "#bikes.loc[negative_distance_indx, \"distance\"]=0\n",
    "#bikes"
   ]
  },
  {
   "cell_type": "markdown",
   "id": "e0cc684c",
   "metadata": {
    "id": "e0cc684c"
   },
   "source": [
    "Then we analyze if any negative distances are left."
   ]
  },
  {
   "cell_type": "code",
   "execution_count": 18,
   "id": "31edbad9",
   "metadata": {
    "id": "31edbad9",
    "outputId": "c14bd665-4d2e-4588-d1a3-a1cbaf7fa1d0"
   },
   "outputs": [
    {
     "name": "stdout",
     "output_type": "stream",
     "text": [
      "Number of durations where distance < 0 is ::  0\n",
      "\n"
     ]
    }
   ],
   "source": [
    "print(\"Number of durations where distance < 0 is :: \",bikes.loc[bikes[\"distance\"]<0, [\"distance\"]].shape[0], end=\"\\n\\n\")"
   ]
  },
  {
   "cell_type": "markdown",
   "id": "26b7ca25",
   "metadata": {
    "id": "26b7ca25"
   },
   "source": [
    "We also find out if there are any duplicate columns and drop any duplicate columns if present. So we first analyze to see if there are duplicates."
   ]
  },
  {
   "cell_type": "code",
   "execution_count": 19,
   "id": "62711bb2",
   "metadata": {
    "id": "62711bb2",
    "outputId": "9484c291-9dfa-4b62-a9be-b2f461d304f2"
   },
   "outputs": [
    {
     "data": {
      "text/html": [
       "<div>\n",
       "<style scoped>\n",
       "    .dataframe tbody tr th:only-of-type {\n",
       "        vertical-align: middle;\n",
       "    }\n",
       "\n",
       "    .dataframe tbody tr th {\n",
       "        vertical-align: top;\n",
       "    }\n",
       "\n",
       "    .dataframe thead th {\n",
       "        text-align: right;\n",
       "    }\n",
       "</style>\n",
       "<table border=\"1\" class=\"dataframe\">\n",
       "  <thead>\n",
       "    <tr style=\"text-align: right;\">\n",
       "      <th></th>\n",
       "      <th>ticket</th>\n",
       "      <th>cost</th>\n",
       "      <th>month</th>\n",
       "      <th>location_from</th>\n",
       "      <th>location_to</th>\n",
       "      <th>duration</th>\n",
       "      <th>distance</th>\n",
       "      <th>assistance</th>\n",
       "      <th>energy_used</th>\n",
       "      <th>energy_collected</th>\n",
       "    </tr>\n",
       "  </thead>\n",
       "  <tbody>\n",
       "    <tr>\n",
       "      <th>494</th>\n",
       "      <td>savonia</td>\n",
       "      <td>0.00</td>\n",
       "      <td>10</td>\n",
       "      <td>TORI</td>\n",
       "      <td>KAUPPAKATU</td>\n",
       "      <td>207.0</td>\n",
       "      <td>180</td>\n",
       "      <td>1</td>\n",
       "      <td>3.3</td>\n",
       "      <td>0.0</td>\n",
       "    </tr>\n",
       "    <tr>\n",
       "      <th>581</th>\n",
       "      <td>single</td>\n",
       "      <td>0.05</td>\n",
       "      <td>6</td>\n",
       "      <td>PUIJONLAAKSO</td>\n",
       "      <td>PUIJONLAAKSO</td>\n",
       "      <td>21.0</td>\n",
       "      <td>0</td>\n",
       "      <td>1</td>\n",
       "      <td>0.0</td>\n",
       "      <td>0.0</td>\n",
       "    </tr>\n",
       "    <tr>\n",
       "      <th>609</th>\n",
       "      <td>savonia</td>\n",
       "      <td>100.00</td>\n",
       "      <td>9</td>\n",
       "      <td>NEULAMÄKI</td>\n",
       "      <td>MICROTEKNIA</td>\n",
       "      <td>25614.0</td>\n",
       "      <td>2310</td>\n",
       "      <td>0</td>\n",
       "      <td>0.0</td>\n",
       "      <td>3.6</td>\n",
       "    </tr>\n",
       "    <tr>\n",
       "      <th>626</th>\n",
       "      <td>season</td>\n",
       "      <td>0.00</td>\n",
       "      <td>5</td>\n",
       "      <td>KAUPPAKATU</td>\n",
       "      <td>TASAVALLANKATU</td>\n",
       "      <td>351.0</td>\n",
       "      <td>1610</td>\n",
       "      <td>1</td>\n",
       "      <td>11.9</td>\n",
       "      <td>2.7</td>\n",
       "    </tr>\n",
       "    <tr>\n",
       "      <th>823</th>\n",
       "      <td>single</td>\n",
       "      <td>0.75</td>\n",
       "      <td>7</td>\n",
       "      <td>SATAMA</td>\n",
       "      <td>PUIJONLAAKSO</td>\n",
       "      <td>887.0</td>\n",
       "      <td>3360</td>\n",
       "      <td>1</td>\n",
       "      <td>45.0</td>\n",
       "      <td>5.7</td>\n",
       "    </tr>\n",
       "    <tr>\n",
       "      <th>887</th>\n",
       "      <td>savonia</td>\n",
       "      <td>0.00</td>\n",
       "      <td>9</td>\n",
       "      <td>NEULAMÄKI</td>\n",
       "      <td>MICROTEKNIA</td>\n",
       "      <td>250.0</td>\n",
       "      <td>1400</td>\n",
       "      <td>0</td>\n",
       "      <td>0.0</td>\n",
       "      <td>6.9</td>\n",
       "    </tr>\n",
       "    <tr>\n",
       "      <th>1199</th>\n",
       "      <td>season</td>\n",
       "      <td>0.00</td>\n",
       "      <td>7</td>\n",
       "      <td>KAUPPAKATU</td>\n",
       "      <td>KAUPPAKATU</td>\n",
       "      <td>28.0</td>\n",
       "      <td>0</td>\n",
       "      <td>1</td>\n",
       "      <td>0.0</td>\n",
       "      <td>0.0</td>\n",
       "    </tr>\n",
       "    <tr>\n",
       "      <th>1271</th>\n",
       "      <td>savonia</td>\n",
       "      <td>0.00</td>\n",
       "      <td>9</td>\n",
       "      <td>TORI</td>\n",
       "      <td>TORI</td>\n",
       "      <td>5.0</td>\n",
       "      <td>0</td>\n",
       "      <td>0</td>\n",
       "      <td>0.0</td>\n",
       "      <td>0.0</td>\n",
       "    </tr>\n",
       "    <tr>\n",
       "      <th>1313</th>\n",
       "      <td>single</td>\n",
       "      <td>0.05</td>\n",
       "      <td>7</td>\n",
       "      <td>TORI</td>\n",
       "      <td>TORI</td>\n",
       "      <td>46.0</td>\n",
       "      <td>0</td>\n",
       "      <td>1</td>\n",
       "      <td>0.0</td>\n",
       "      <td>0.0</td>\n",
       "    </tr>\n",
       "    <tr>\n",
       "      <th>1342</th>\n",
       "      <td>single</td>\n",
       "      <td>0.15</td>\n",
       "      <td>4</td>\n",
       "      <td>KAUPPAKATU</td>\n",
       "      <td>KAUPPAKATU</td>\n",
       "      <td>178.0</td>\n",
       "      <td>50</td>\n",
       "      <td>1</td>\n",
       "      <td>0.2</td>\n",
       "      <td>0.0</td>\n",
       "    </tr>\n",
       "    <tr>\n",
       "      <th>1392</th>\n",
       "      <td>savonia</td>\n",
       "      <td>0.00</td>\n",
       "      <td>10</td>\n",
       "      <td>TORI</td>\n",
       "      <td>KAUPPAKATU</td>\n",
       "      <td>111.0</td>\n",
       "      <td>390</td>\n",
       "      <td>0</td>\n",
       "      <td>0.0</td>\n",
       "      <td>0.6</td>\n",
       "    </tr>\n",
       "    <tr>\n",
       "      <th>1623</th>\n",
       "      <td>single</td>\n",
       "      <td>0.35</td>\n",
       "      <td>7</td>\n",
       "      <td>PUIJONLAAKSO</td>\n",
       "      <td>MICROTEKNIA</td>\n",
       "      <td>410.0</td>\n",
       "      <td>2140</td>\n",
       "      <td>1</td>\n",
       "      <td>12.5</td>\n",
       "      <td>20.4</td>\n",
       "    </tr>\n",
       "  </tbody>\n",
       "</table>\n",
       "</div>"
      ],
      "text/plain": [
       "       ticket    cost month location_from     location_to  duration  distance  \\\n",
       "494   savonia    0.00    10          TORI      KAUPPAKATU     207.0       180   \n",
       "581    single    0.05     6  PUIJONLAAKSO    PUIJONLAAKSO      21.0         0   \n",
       "609   savonia  100.00     9     NEULAMÄKI     MICROTEKNIA   25614.0      2310   \n",
       "626    season    0.00     5    KAUPPAKATU  TASAVALLANKATU     351.0      1610   \n",
       "823    single    0.75     7        SATAMA    PUIJONLAAKSO     887.0      3360   \n",
       "887   savonia    0.00     9     NEULAMÄKI     MICROTEKNIA     250.0      1400   \n",
       "1199   season    0.00     7    KAUPPAKATU      KAUPPAKATU      28.0         0   \n",
       "1271  savonia    0.00     9          TORI            TORI       5.0         0   \n",
       "1313   single    0.05     7          TORI            TORI      46.0         0   \n",
       "1342   single    0.15     4    KAUPPAKATU      KAUPPAKATU     178.0        50   \n",
       "1392  savonia    0.00    10          TORI      KAUPPAKATU     111.0       390   \n",
       "1623   single    0.35     7  PUIJONLAAKSO     MICROTEKNIA     410.0      2140   \n",
       "\n",
       "     assistance  energy_used  energy_collected  \n",
       "494           1          3.3               0.0  \n",
       "581           1          0.0               0.0  \n",
       "609           0          0.0               3.6  \n",
       "626           1         11.9               2.7  \n",
       "823           1         45.0               5.7  \n",
       "887           0          0.0               6.9  \n",
       "1199          1          0.0               0.0  \n",
       "1271          0          0.0               0.0  \n",
       "1313          1          0.0               0.0  \n",
       "1342          1          0.2               0.0  \n",
       "1392          0          0.0               0.6  \n",
       "1623          1         12.5              20.4  "
      ]
     },
     "execution_count": 19,
     "metadata": {},
     "output_type": "execute_result"
    }
   ],
   "source": [
    "duplicateRows = bikes[bikes.duplicated()]\n",
    "duplicateRows\n",
    "#bikes.drop_duplicates()"
   ]
  },
  {
   "cell_type": "markdown",
   "id": "54a45fe8",
   "metadata": {
    "id": "54a45fe8"
   },
   "source": [
    "We find that even though, there might be multiple values of different columns common for different rows, there are no rows that are completely identical to another, and hence there is no use dropping any rows."
   ]
  },
  {
   "cell_type": "markdown",
   "id": "fb7dc2ac",
   "metadata": {
    "id": "fb7dc2ac"
   },
   "source": [
    "Then we find out how many instances have cost greater than 0 but distances traversed as less than 0. Since there are not so many instances, we drop that row"
   ]
  },
  {
   "cell_type": "code",
   "execution_count": 20,
   "id": "2cc12f95",
   "metadata": {
    "id": "2cc12f95",
    "outputId": "89f11c87-d5a9-4ab6-a8eb-81c31d2ef37b",
    "scrolled": true
   },
   "outputs": [
    {
     "name": "stdout",
     "output_type": "stream",
     "text": [
      "No of instances where distance is 0 :  257\n"
     ]
    },
    {
     "data": {
      "text/html": [
       "<div>\n",
       "<style scoped>\n",
       "    .dataframe tbody tr th:only-of-type {\n",
       "        vertical-align: middle;\n",
       "    }\n",
       "\n",
       "    .dataframe tbody tr th {\n",
       "        vertical-align: top;\n",
       "    }\n",
       "\n",
       "    .dataframe thead th {\n",
       "        text-align: right;\n",
       "    }\n",
       "</style>\n",
       "<table border=\"1\" class=\"dataframe\">\n",
       "  <thead>\n",
       "    <tr style=\"text-align: right;\">\n",
       "      <th></th>\n",
       "      <th>ticket</th>\n",
       "      <th>cost</th>\n",
       "      <th>month</th>\n",
       "      <th>location_from</th>\n",
       "      <th>location_to</th>\n",
       "      <th>duration</th>\n",
       "      <th>distance</th>\n",
       "      <th>assistance</th>\n",
       "      <th>energy_used</th>\n",
       "      <th>energy_collected</th>\n",
       "    </tr>\n",
       "  </thead>\n",
       "  <tbody>\n",
       "    <tr>\n",
       "      <th>9</th>\n",
       "      <td>savonia</td>\n",
       "      <td>0.00</td>\n",
       "      <td>9</td>\n",
       "      <td>TORI</td>\n",
       "      <td>TORI</td>\n",
       "      <td>5.0</td>\n",
       "      <td>0</td>\n",
       "      <td>0</td>\n",
       "      <td>0.0</td>\n",
       "      <td>0.0</td>\n",
       "    </tr>\n",
       "    <tr>\n",
       "      <th>13</th>\n",
       "      <td>single</td>\n",
       "      <td>0.10</td>\n",
       "      <td>5</td>\n",
       "      <td>TORI</td>\n",
       "      <td>TORI</td>\n",
       "      <td>64.0</td>\n",
       "      <td>0</td>\n",
       "      <td>1</td>\n",
       "      <td>0.0</td>\n",
       "      <td>0.0</td>\n",
       "    </tr>\n",
       "    <tr>\n",
       "      <th>14</th>\n",
       "      <td>single</td>\n",
       "      <td>0.10</td>\n",
       "      <td>5</td>\n",
       "      <td>KEILANKANTA</td>\n",
       "      <td>KEILANKANTA</td>\n",
       "      <td>86.0</td>\n",
       "      <td>0</td>\n",
       "      <td>1</td>\n",
       "      <td>0.0</td>\n",
       "      <td>0.0</td>\n",
       "    </tr>\n",
       "    <tr>\n",
       "      <th>18</th>\n",
       "      <td>season</td>\n",
       "      <td>0.00</td>\n",
       "      <td>6</td>\n",
       "      <td>TORI</td>\n",
       "      <td>TORI</td>\n",
       "      <td>233.0</td>\n",
       "      <td>0</td>\n",
       "      <td>1</td>\n",
       "      <td>0.0</td>\n",
       "      <td>0.0</td>\n",
       "    </tr>\n",
       "    <tr>\n",
       "      <th>21</th>\n",
       "      <td>season</td>\n",
       "      <td>0.00</td>\n",
       "      <td>6</td>\n",
       "      <td>TASAVALLANKATU</td>\n",
       "      <td>TASAVALLANKATU</td>\n",
       "      <td>38.0</td>\n",
       "      <td>0</td>\n",
       "      <td>1</td>\n",
       "      <td>0.0</td>\n",
       "      <td>0.0</td>\n",
       "    </tr>\n",
       "    <tr>\n",
       "      <th>...</th>\n",
       "      <td>...</td>\n",
       "      <td>...</td>\n",
       "      <td>...</td>\n",
       "      <td>...</td>\n",
       "      <td>...</td>\n",
       "      <td>...</td>\n",
       "      <td>...</td>\n",
       "      <td>...</td>\n",
       "      <td>...</td>\n",
       "      <td>...</td>\n",
       "    </tr>\n",
       "    <tr>\n",
       "      <th>1723</th>\n",
       "      <td>single</td>\n",
       "      <td>0.05</td>\n",
       "      <td>5</td>\n",
       "      <td>TORI</td>\n",
       "      <td>TORI</td>\n",
       "      <td>59.0</td>\n",
       "      <td>0</td>\n",
       "      <td>1</td>\n",
       "      <td>0.0</td>\n",
       "      <td>0.0</td>\n",
       "    </tr>\n",
       "    <tr>\n",
       "      <th>1739</th>\n",
       "      <td>season</td>\n",
       "      <td>0.00</td>\n",
       "      <td>7</td>\n",
       "      <td>TORI</td>\n",
       "      <td>TORI</td>\n",
       "      <td>8.0</td>\n",
       "      <td>0</td>\n",
       "      <td>1</td>\n",
       "      <td>0.0</td>\n",
       "      <td>0.0</td>\n",
       "    </tr>\n",
       "    <tr>\n",
       "      <th>1743</th>\n",
       "      <td>season</td>\n",
       "      <td>0.00</td>\n",
       "      <td>8</td>\n",
       "      <td>MICROTEKNIA</td>\n",
       "      <td>MICROTEKNIA</td>\n",
       "      <td>79.0</td>\n",
       "      <td>0</td>\n",
       "      <td>1</td>\n",
       "      <td>0.0</td>\n",
       "      <td>0.0</td>\n",
       "    </tr>\n",
       "    <tr>\n",
       "      <th>1752</th>\n",
       "      <td>single</td>\n",
       "      <td>0.10</td>\n",
       "      <td>7</td>\n",
       "      <td>KYS</td>\n",
       "      <td>KYS</td>\n",
       "      <td>109.0</td>\n",
       "      <td>0</td>\n",
       "      <td>0</td>\n",
       "      <td>0.0</td>\n",
       "      <td>0.0</td>\n",
       "    </tr>\n",
       "    <tr>\n",
       "      <th>1771</th>\n",
       "      <td>season</td>\n",
       "      <td>0.00</td>\n",
       "      <td>7</td>\n",
       "      <td>TORI</td>\n",
       "      <td>TORI</td>\n",
       "      <td>61.0</td>\n",
       "      <td>0</td>\n",
       "      <td>1</td>\n",
       "      <td>0.0</td>\n",
       "      <td>0.0</td>\n",
       "    </tr>\n",
       "  </tbody>\n",
       "</table>\n",
       "<p>257 rows × 10 columns</p>\n",
       "</div>"
      ],
      "text/plain": [
       "       ticket  cost month   location_from     location_to  duration  distance  \\\n",
       "9     savonia  0.00     9            TORI            TORI       5.0         0   \n",
       "13     single  0.10     5            TORI            TORI      64.0         0   \n",
       "14     single  0.10     5     KEILANKANTA     KEILANKANTA      86.0         0   \n",
       "18     season  0.00     6            TORI            TORI     233.0         0   \n",
       "21     season  0.00     6  TASAVALLANKATU  TASAVALLANKATU      38.0         0   \n",
       "...       ...   ...   ...             ...             ...       ...       ...   \n",
       "1723   single  0.05     5            TORI            TORI      59.0         0   \n",
       "1739   season  0.00     7            TORI            TORI       8.0         0   \n",
       "1743   season  0.00     8     MICROTEKNIA     MICROTEKNIA      79.0         0   \n",
       "1752   single  0.10     7             KYS             KYS     109.0         0   \n",
       "1771   season  0.00     7            TORI            TORI      61.0         0   \n",
       "\n",
       "     assistance  energy_used  energy_collected  \n",
       "9             0          0.0               0.0  \n",
       "13            1          0.0               0.0  \n",
       "14            1          0.0               0.0  \n",
       "18            1          0.0               0.0  \n",
       "21            1          0.0               0.0  \n",
       "...         ...          ...               ...  \n",
       "1723          1          0.0               0.0  \n",
       "1739          1          0.0               0.0  \n",
       "1743          1          0.0               0.0  \n",
       "1752          0          0.0               0.0  \n",
       "1771          1          0.0               0.0  \n",
       "\n",
       "[257 rows x 10 columns]"
      ]
     },
     "execution_count": 20,
     "metadata": {},
     "output_type": "execute_result"
    }
   ],
   "source": [
    "zero_distances=bikes.loc[(bikes[\"distance\"]<=0 )& (bikes[\"cost\"]>=0)]\n",
    "print(\"No of instances where distance is 0 : \",zero_distances.shape[0])\n",
    "zero_distances"
   ]
  },
  {
   "cell_type": "code",
   "execution_count": null,
   "id": "0f344eab",
   "metadata": {
    "id": "0f344eab"
   },
   "outputs": [],
   "source": []
  },
  {
   "cell_type": "code",
   "execution_count": 21,
   "id": "42b0d144",
   "metadata": {
    "id": "42b0d144",
    "outputId": "e7f4f97d-df32-4b1c-9e19-0664a7e7acb7"
   },
   "outputs": [
    {
     "name": "stdout",
     "output_type": "stream",
     "text": [
      "Shape before dropping rows ::  1774\n",
      "Shape after dropping rows ::  1517\n"
     ]
    }
   ],
   "source": [
    "print(\"Shape before dropping rows :: \", bikes.shape[0])\n",
    "bikes.drop(zero_distances.index, inplace=True)\n",
    "print(\"Shape after dropping rows :: \", bikes.shape[0])\n",
    "#bikes.loc[(bikes[\"distance\"]>=0 )& (bikes[\"cost\"]>=0)]"
   ]
  },
  {
   "cell_type": "code",
   "execution_count": null,
   "id": "6777e9da",
   "metadata": {
    "id": "6777e9da"
   },
   "outputs": [],
   "source": []
  },
  {
   "cell_type": "markdown",
   "id": "c0a2a4fd",
   "metadata": {
    "id": "c0a2a4fd"
   },
   "source": [
    "# **Data exploration**\n",
    "\n",
    "It is vital to know what our customers are like and how they use our bikes. We are particularly interested in characterising the users of the three ticket types (single, season and savonia). Explore the data to discover how the rental bikes were used during the time period at which the data was collected. Remember to examine your results, summarise your findings and point out any interesting discoveries in your report."
   ]
  },
  {
   "cell_type": "markdown",
   "id": "ea73813e",
   "metadata": {
    "id": "ea73813e"
   },
   "source": [
    "## 1. For each ticket type, calculate the number of trips made, the total distance travelled, the total time travelled and the total amount of fees paid. Examine your results and make comments about the customers."
   ]
  },
  {
   "cell_type": "code",
   "execution_count": 22,
   "id": "ad537f6e",
   "metadata": {
    "id": "ad537f6e",
    "outputId": "ef0d7e33-f40f-4741-b9f1-8c07d87abc1e"
   },
   "outputs": [
    {
     "name": "stdout",
     "output_type": "stream",
     "text": [
      "For each ticket type, \n",
      "Total Duration Covered:\n",
      " ticket\n",
      "savonia    189776.0\n",
      "season     317402.0\n",
      "single     660892.0\n",
      "Name: duration, dtype: float64\n",
      "\n",
      "Total Distance Covered:\n",
      " ticket\n",
      "savonia     499880\n",
      "season     1315880\n",
      "single     2574360\n",
      "Name: distance, dtype: int64\n",
      "\n",
      "Total Cost Covered:\n",
      " ticket\n",
      "savonia    202.0\n",
      "season       3.0\n",
      "single     652.9\n",
      "Name: cost, dtype: float64\n",
      "\n",
      "Total number of trips made:\n",
      "single     827\n",
      "season     465\n",
      "savonia    225\n",
      "Name: ticket, dtype: int64\n"
     ]
    }
   ],
   "source": [
    "print(\"For each ticket type, \")\n",
    "print(\"Total Duration Covered:\\n\",bikes.groupby(\"ticket\")[\"duration\"].sum(), end=\"\\n\\n\")\n",
    "print(\"Total Distance Covered:\\n\",bikes.groupby(\"ticket\")[\"distance\"].sum(),end=\"\\n\\n\")\n",
    "print(\"Total Cost Covered:\\n\",bikes.groupby(\"ticket\")[\"cost\"].sum(),end=\"\\n\\n\")\n",
    "print(\"Total number of trips made:\")\n",
    "print(bikes[\"ticket\"].value_counts())\n"
   ]
  },
  {
   "cell_type": "markdown",
   "id": "70c93ad5",
   "metadata": {
    "id": "70c93ad5"
   },
   "source": [
    "For each each ticket type, we calculated the number of trips made, the total distance travelled, the total time travelled and the total amount of fees paid. We did these using groupby and value_counts function in pandas"
   ]
  },
  {
   "cell_type": "markdown",
   "id": "4ad1b5a9",
   "metadata": {
    "id": "4ad1b5a9"
   },
   "source": [
    "According to these results, it is seen that the most number of trips are made by single tickets(827 times) where savonia are used the least(225 times). The cost seems to be the least for season, being 3 euros and mostly for single tickets being 652.9 euros. The distance(2574360 meters) and duration(660892 seconds) are most for single ticket types making them the most popular choice amongst the customers. And the least favoured by the customers is the savonia ticket where the total distance and duration traversed is 189776 meteres and 499880 seconds respectively and the total cost incurred is 202.0 euros."
   ]
  },
  {
   "cell_type": "code",
   "execution_count": 23,
   "id": "a428b005",
   "metadata": {
    "id": "a428b005"
   },
   "outputs": [],
   "source": [
    "#print(\"For the season tickets, cost paid is \",bikes[bikes[\"ticket\"]==\"single\"].distance.sum())"
   ]
  },
  {
   "cell_type": "markdown",
   "id": "6ebdaea9",
   "metadata": {
    "id": "6ebdaea9"
   },
   "source": [
    "## 2. For each ticket type, visualise the monthly rental activity in terms of the total distance travelled. Examine your results and make comments about the development of the rental activity over time."
   ]
  },
  {
   "cell_type": "code",
   "execution_count": 24,
   "id": "ddd4cfc1",
   "metadata": {
    "id": "ddd4cfc1",
    "outputId": "8ef5a6ad-59f6-4706-dd54-093cb4586a71"
   },
   "outputs": [
    {
     "name": "stdout",
     "output_type": "stream",
     "text": [
      "     ticket month  distance\n",
      "0   savonia     4         0\n",
      "1   savonia     5         0\n",
      "2   savonia     6         0\n",
      "3   savonia     7         0\n",
      "4   savonia     8         0\n",
      "5   savonia     9    244500\n",
      "6   savonia    10    255380\n",
      "7    season     4     30680\n",
      "8    season     5    258550\n",
      "9    season     6    244780\n",
      "10   season     7    268150\n",
      "11   season     8    218270\n",
      "12   season     9    184840\n",
      "13   season    10    110610\n",
      "14   single     4     36170\n",
      "15   single     5    495850\n",
      "16   single     6    710240\n",
      "17   single     7    594890\n",
      "18   single     8    362560\n",
      "19   single     9    240370\n",
      "20   single    10    134280\n"
     ]
    },
    {
     "data": {
      "image/png": "[encoded data removed]",
      "text/plain": [
       "<Figure size 640x480 with 1 Axes>"
      ]
     },
     "metadata": {},
     "output_type": "display_data"
    },
    {
     "name": "stdout",
     "output_type": "stream",
     "text": [
      "The monthly rental activity is given above for each ticket type\n"
     ]
    }
   ],
   "source": [
    "data = bikes.groupby(['ticket','month'])['distance'].sum().reset_index()\n",
    "print(data)\n",
    "sns.barplot(data=data,y=\"distance\", x=\"month\", hue=\"ticket\", errorbar=None)\n",
    "plt.show()\n",
    "print(\"The monthly rental activity is given above for each ticket type\")"
   ]
  },
  {
   "cell_type": "markdown",
   "id": "959e2d02",
   "metadata": {
    "id": "959e2d02"
   },
   "source": [
    "In this visualization, x axis represents the month number(4-10) and y axis represents distance. According to this,\n",
    "from April to June, it appears that the single ticket type was the most popular in terms of distance driven and savonia was not used. In may, the situation was the same but the overall usage increased for both, especially for single tickets. The figure remained the same for these two tickets for July, August too but the usage decreased gradually. However, in September, both savonia and single tickets were used for the same amount and they were more than season. In October, Savonia ticket usage peaked whilst season fell the most.\n"
   ]
  },
  {
   "cell_type": "markdown",
   "id": "b36b110d",
   "metadata": {
    "id": "b36b110d"
   },
   "source": [
    "## 3. Find the three stations that have the highest total deficit of bikes (i.e. the largest negative difference between the number of arrived bikes and the number of departured bikes) and the three stations that have the highest total surplus of bikes (i.e. the largest positive difference). Examine your results and make suggestions about how bikes could be relocated."
   ]
  },
  {
   "cell_type": "code",
   "execution_count": 25,
   "id": "91a51443",
   "metadata": {
    "id": "91a51443",
    "outputId": "51aeeaf1-644c-4cb5-c1ec-aada0e3eadaa"
   },
   "outputs": [
    {
     "name": "stdout",
     "output_type": "stream",
     "text": [
      "highest 3 total deficit of bikes\n",
      " TASAVALLANKATU   -13\n",
      "PUIJONLAAKSO     -30\n",
      "KAUPPAKATU       -46\n",
      "dtype: int64\n",
      "\n",
      "highest 3 total surplus of bikes\n",
      " SATAMA    38\n",
      "KYS       19\n",
      "TORI      15\n",
      "dtype: int64\n"
     ]
    }
   ],
   "source": [
    "arrived_bikes=bikes[\"location_from\"].value_counts()\n",
    "departed_bikes=bikes[\"location_to\"].value_counts()\n",
    "\n",
    "total_bike_deficit_top=(arrived_bikes-departed_bikes).sort_values(ascending=False)\n",
    "total_bike_surplus_top=(arrived_bikes-departed_bikes).sort_values(ascending=False)\n",
    "\n",
    "print(\"highest 3 total deficit of bikes\\n\",total_bike_deficit_top[-3:], end=\"\\n\\n\")\n",
    "print(\"highest 3 total surplus of bikes\\n\",total_bike_surplus_top[:3])\n",
    "\n",
    "#arrived_bikes-departed_bikes.sort_values(ascending=False)"
   ]
  },
  {
   "cell_type": "markdown",
   "id": "e7a7d647",
   "metadata": {
    "id": "e7a7d647"
   },
   "source": [
    "In this scenario, TASAVALLANKATU  has 13 missing bikes and PUIJONLAAKSO has 30, and KAUPPAKATU has 46 missing. On the other hand,\n",
    "SATAMA, KYS, TORI has surplus of 38, 19, 15 bikes respectively as surplus."
   ]
  },
  {
   "cell_type": "code",
   "execution_count": 26,
   "id": "66cfeed3",
   "metadata": {
    "id": "66cfeed3",
    "outputId": "64bb1952-4f8a-4451-e0fb-f733d6862c08"
   },
   "outputs": [
    {
     "data": {
      "text/plain": [
       "SATAMA            38\n",
       "KYS               19\n",
       "TORI              15\n",
       "KEILANKANTA       11\n",
       "MICROTEKNIA        6\n",
       "NEULAMÄKI          2\n",
       "PIRTTI            -2\n",
       "TASAVALLANKATU   -13\n",
       "PUIJONLAAKSO     -30\n",
       "KAUPPAKATU       -46\n",
       "dtype: int64"
      ]
     },
     "execution_count": 26,
     "metadata": {},
     "output_type": "execute_result"
    }
   ],
   "source": [
    "total_bike_surplus_top"
   ]
  },
  {
   "cell_type": "markdown",
   "id": "7ffc84cb",
   "metadata": {
    "id": "7ffc84cb"
   },
   "source": [
    "In this case, since SATAMA, KYS, TORI have the maximum surplus of bikes, these can be relocated to TASAVALLANKATU, PUIJONLAAKSO and KAUPPAKATU. Besides these 3, excess bikes from the ones that have surplus can be shifted to the deficit places. For example, KEILANKANTA, MICROTEKNIA, NEULAMÄKI also has excess bikes which can be relocated to the deficit ones.       \n"
   ]
  },
  {
   "cell_type": "markdown",
   "id": "7920f466",
   "metadata": {
    "id": "7920f466"
   },
   "source": [
    "## 4. For each trip in the data set, calculate its net energy gain, which is defined as the difference between the energy collected and consumed during a trip."
   ]
  },
  {
   "cell_type": "code",
   "execution_count": 27,
   "id": "e638c7ab",
   "metadata": {
    "id": "e638c7ab"
   },
   "outputs": [],
   "source": [
    "net_energy_gain=bikes[\"energy_collected\"]-bikes[\"energy_used\"]\n",
    "bikes[\"net_energy_gain\"]=net_energy_gain\n",
    "#net_energy_gain.plot.kde(x=\"net_energy_gain\")"
   ]
  },
  {
   "cell_type": "code",
   "execution_count": 28,
   "id": "470de047",
   "metadata": {
    "id": "470de047",
    "outputId": "de6648b7-da6c-43a1-8638-b9c84ba74604"
   },
   "outputs": [
    {
     "data": {
      "text/plain": [
       "<Axes: xlabel='net_energy_gain', ylabel='Count'>"
      ]
     },
     "execution_count": 28,
     "metadata": {},
     "output_type": "execute_result"
    },
    {
     "data": {
      "image/png": "[encoded data removed]",
      "text/plain": [
       "<Figure size 640x480 with 1 Axes>"
      ]
     },
     "metadata": {},
     "output_type": "display_data"
    }
   ],
   "source": [
    "sns.histplot(bikes, x=\"net_energy_gain\", kde=True)"
   ]
  },
  {
   "cell_type": "markdown",
   "id": "aed513e8",
   "metadata": {
    "id": "aed513e8"
   },
   "source": [
    "From this visualization and interpretation of values, we can notice that the graph is shifted to the negative side. This indicates that there has been more energy consumed that collected in this trip. The positive net energy gain is only 20% and negative is 80%. Also most bikes tend to show that more energy is consumed when higher distance is traversed. So shifting bikes to places where higher distance will be traversed will be necessary for full battery usage in case of electric assistance usage."
   ]
  },
  {
   "cell_type": "code",
   "execution_count": null,
   "id": "e4f439f6",
   "metadata": {
    "id": "e4f439f6"
   },
   "outputs": [],
   "source": []
  },
  {
   "cell_type": "markdown",
   "id": "7eb44c80",
   "metadata": {
    "id": "7eb44c80"
   },
   "source": [
    "## **Hypothesis testing**\n",
    "\n",
    "There are a few hypotheses that we want to study about our customers and the trips they make. You need to examine whether the data has statistical evidence to support them. The tasks are detailed below. The other teams will want to double-check your analysis, so in your report remember to justify your choices of statistical tests, interpret the p-values, and make conclusions about the customers and their trips."
   ]
  },
  {
   "cell_type": "markdown",
   "id": "3da66e84",
   "metadata": {
    "id": "3da66e84"
   },
   "source": [
    "We'll perform some statistical analysis on the dataset's numerous variables. The p-value is a number derived from a statistical test. It expresses the chance of discovering a certain collection of observations if the null hypothesis is true. P-values are used in hypothesis testing to assist determine whether to reject the null hypothesis. Simply expressed, the lower the p-value, the more probable the null hypothesis is rejected. A null hypothesis exists in all statistical tests. The null hypothesis in most tests is that there is no association between the examined variables or that no difference exists between groups.\n",
    "\n",
    "\n"
   ]
  },
  {
   "cell_type": "code",
   "execution_count": 29,
   "id": "509d77e7",
   "metadata": {
    "id": "509d77e7",
    "outputId": "be0d7c1b-b14f-49b7-ae30-e1c9acdbb3dc"
   },
   "outputs": [
    {
     "data": {
      "text/html": [
       "<div>\n",
       "<style scoped>\n",
       "    .dataframe tbody tr th:only-of-type {\n",
       "        vertical-align: middle;\n",
       "    }\n",
       "\n",
       "    .dataframe tbody tr th {\n",
       "        vertical-align: top;\n",
       "    }\n",
       "\n",
       "    .dataframe thead th {\n",
       "        text-align: right;\n",
       "    }\n",
       "</style>\n",
       "<table border=\"1\" class=\"dataframe\">\n",
       "  <thead>\n",
       "    <tr style=\"text-align: right;\">\n",
       "      <th></th>\n",
       "      <th>ticket</th>\n",
       "      <th>cost</th>\n",
       "      <th>month</th>\n",
       "      <th>location_from</th>\n",
       "      <th>location_to</th>\n",
       "      <th>duration</th>\n",
       "      <th>distance</th>\n",
       "      <th>assistance</th>\n",
       "      <th>energy_used</th>\n",
       "      <th>energy_collected</th>\n",
       "      <th>net_energy_gain</th>\n",
       "    </tr>\n",
       "  </thead>\n",
       "  <tbody>\n",
       "    <tr>\n",
       "      <th>0</th>\n",
       "      <td>single</td>\n",
       "      <td>0.35</td>\n",
       "      <td>9</td>\n",
       "      <td>MICROTEKNIA</td>\n",
       "      <td>PUIJONLAAKSO</td>\n",
       "      <td>411.0</td>\n",
       "      <td>2150</td>\n",
       "      <td>1</td>\n",
       "      <td>19.0</td>\n",
       "      <td>2.7</td>\n",
       "      <td>-16.3</td>\n",
       "    </tr>\n",
       "    <tr>\n",
       "      <th>1</th>\n",
       "      <td>single</td>\n",
       "      <td>1.20</td>\n",
       "      <td>5</td>\n",
       "      <td>SATAMA</td>\n",
       "      <td>KEILANKANTA</td>\n",
       "      <td>1411.0</td>\n",
       "      <td>7130</td>\n",
       "      <td>1</td>\n",
       "      <td>53.8</td>\n",
       "      <td>15.3</td>\n",
       "      <td>-38.5</td>\n",
       "    </tr>\n",
       "    <tr>\n",
       "      <th>2</th>\n",
       "      <td>savonia</td>\n",
       "      <td>0.00</td>\n",
       "      <td>9</td>\n",
       "      <td>TASAVALLANKATU</td>\n",
       "      <td>NEULAMÄKI</td>\n",
       "      <td>1308.0</td>\n",
       "      <td>5420</td>\n",
       "      <td>1</td>\n",
       "      <td>43.0</td>\n",
       "      <td>9.9</td>\n",
       "      <td>-33.1</td>\n",
       "    </tr>\n",
       "    <tr>\n",
       "      <th>3</th>\n",
       "      <td>savonia</td>\n",
       "      <td>0.00</td>\n",
       "      <td>10</td>\n",
       "      <td>TORI</td>\n",
       "      <td>KAUPPAKATU</td>\n",
       "      <td>1036.0</td>\n",
       "      <td>1180</td>\n",
       "      <td>1</td>\n",
       "      <td>6.5</td>\n",
       "      <td>2.1</td>\n",
       "      <td>-4.4</td>\n",
       "    </tr>\n",
       "    <tr>\n",
       "      <th>4</th>\n",
       "      <td>single</td>\n",
       "      <td>0.30</td>\n",
       "      <td>9</td>\n",
       "      <td>TORI</td>\n",
       "      <td>TORI</td>\n",
       "      <td>319.0</td>\n",
       "      <td>1120</td>\n",
       "      <td>1</td>\n",
       "      <td>13.7</td>\n",
       "      <td>1.2</td>\n",
       "      <td>-12.5</td>\n",
       "    </tr>\n",
       "  </tbody>\n",
       "</table>\n",
       "</div>"
      ],
      "text/plain": [
       "    ticket  cost month   location_from   location_to  duration  distance  \\\n",
       "0   single  0.35     9     MICROTEKNIA  PUIJONLAAKSO     411.0      2150   \n",
       "1   single  1.20     5          SATAMA   KEILANKANTA    1411.0      7130   \n",
       "2  savonia  0.00     9  TASAVALLANKATU     NEULAMÄKI    1308.0      5420   \n",
       "3  savonia  0.00    10            TORI    KAUPPAKATU    1036.0      1180   \n",
       "4   single  0.30     9            TORI          TORI     319.0      1120   \n",
       "\n",
       "  assistance  energy_used  energy_collected  net_energy_gain  \n",
       "0          1         19.0               2.7            -16.3  \n",
       "1          1         53.8              15.3            -38.5  \n",
       "2          1         43.0               9.9            -33.1  \n",
       "3          1          6.5               2.1             -4.4  \n",
       "4          1         13.7               1.2            -12.5  "
      ]
     },
     "execution_count": 29,
     "metadata": {},
     "output_type": "execute_result"
    }
   ],
   "source": [
    "bikes.head()"
   ]
  },
  {
   "cell_type": "markdown",
   "id": "5979ff32",
   "metadata": {
    "id": "5979ff32"
   },
   "source": [
    "If the p-value is larger than your selected significance threshold (often 0.05), the null hypothesis is not rejected. We have no meaningful evidence to imply that the data does not follow a normal distribution in this example. As a result, we may infer that the data is about regularly distributed.\n",
    "    We can reject the null hypothesis if the p-value is less than our specified significance level. This shows that there is substantial evidence that the data does not have a normal distribution. In this instance, we should investigate a different strategy or distribution that is more appropriate for our data.\n",
    "    \n",
    " So for checking normality of distribution, we assume the significant theshold to be 0.05 and keep a function to test normality."
   ]
  },
  {
   "cell_type": "code",
   "execution_count": 30,
   "id": "5735f89b",
   "metadata": {
    "id": "5735f89b"
   },
   "outputs": [],
   "source": [
    "def test_normal(pval):\n",
    "    if pval>=0.5:\n",
    "        return True\n",
    "    else:\n",
    "        return False"
   ]
  },
  {
   "cell_type": "markdown",
   "id": "2df3d271",
   "metadata": {
    "id": "2df3d271"
   },
   "source": [
    "This function returns True if p-value is greater than 0.05 and it returns False otherwise."
   ]
  },
  {
   "cell_type": "code",
   "execution_count": null,
   "id": "bf4da974",
   "metadata": {
    "id": "bf4da974"
   },
   "outputs": [],
   "source": []
  },
  {
   "cell_type": "markdown",
   "id": "db200f70",
   "metadata": {
    "id": "db200f70"
   },
   "source": [
    "## 1. Is there statistical evidence to claim that the travel times tend to be shorter or longer for the single than for the season ticket type. Justify your design choices, interpret the results and use your discoveries to make conclusions about customers."
   ]
  },
  {
   "cell_type": "code",
   "execution_count": 31,
   "id": "6e62f2cc",
   "metadata": {
    "id": "6e62f2cc",
    "outputId": "17b34803-e4b9-4695-95f0-254e570f4737"
   },
   "outputs": [
    {
     "name": "stdout",
     "output_type": "stream",
     "text": [
      "p value of durations for single tickets:  1.401298464324817e-45\n",
      "p value of durations for season tickets:  8.494552283799806e-10\n"
     ]
    }
   ],
   "source": [
    "duration_single=bikes.loc[bikes[\"ticket\"]==\"single\"][\"duration\"]\n",
    "p_duration_single=stats.shapiro(duration_single).pvalue\n",
    "duration_season=bikes.loc[bikes[\"ticket\"]==\"season\"][\"duration\"]\n",
    "p_duration_season=stats.shapiro(duration_season).pvalue\n",
    "\n",
    "print(\"p value of durations for single tickets: \", p_duration_single)\n",
    "print(\"p value of durations for season tickets: \", p_duration_season)"
   ]
  },
  {
   "cell_type": "markdown",
   "id": "45f8dc40",
   "metadata": {
    "id": "45f8dc40"
   },
   "source": [
    "Since the variables are quantitative variable (the observable values are numeric values) and not normally distributed, we need to use a suitable technique for them. If any of the distributions between two or more are false, we will use Mann Whitney U test to determine the p-value for our hypothesis and we will check whether or not to accept or reject the alternative hypothesis. In our case, both of the distributions were not normal, and hence, we used Mann Whitney U test."
   ]
  },
  {
   "cell_type": "code",
   "execution_count": 32,
   "id": "f40a4e43",
   "metadata": {
    "id": "f40a4e43",
    "outputId": "4a167f44-849a-45ac-a36d-2dcef6d63a25"
   },
   "outputs": [
    {
     "name": "stdout",
     "output_type": "stream",
     "text": [
      "U test value:  0.28323369961199674\n",
      "p-value of Mann–Whitney U-test is greater than 0.05, so there exists no significant difference between the travel times for the single and the season ticket type\n",
      "If the p-value is greater than the significance level, the decision is to fail to reject the null hypothesis. You do not have enough evidence to conclude that the difference between the population medians is statistically significantly. \n"
     ]
    }
   ],
   "source": [
    "if  ((test_normal(p_duration_single) | (test_normal(p_duration_season)))==False):\n",
    "    U_test_val=stats.mannwhitneyu(duration_single,duration_season).pvalue\n",
    "    print(\"U test value: \",U_test_val)\n",
    "    if(U_test_val>=0.5):\n",
    "        print(\"If the p-value is less than or equal to the significance level, the decision is to reject the null hypothesis. You can conclude that the difference between the population medians is statistically significant.\")\n",
    "    else:\n",
    "        print(\"p-value of Mann–Whitney U-test is greater than 0.05, so there exists no significant difference between the travel times for the single and the season ticket type\")\n",
    "        print(\"If the p-value is greater than the significance level, the decision is to fail to reject the null hypothesis. You do not have enough evidence to conclude that the difference between the population medians is statistically significantly. \")\n"
   ]
  },
  {
   "cell_type": "code",
   "execution_count": null,
   "id": "207fdb8c",
   "metadata": {
    "id": "207fdb8c"
   },
   "outputs": [],
   "source": []
  },
  {
   "cell_type": "markdown",
   "id": "6902d7f2",
   "metadata": {
    "id": "6902d7f2"
   },
   "source": [
    "## 2. Is there statistical evidence to claim that the travel distance positively correlates with the average rate at which electricity is consumed during the trip? Justify your design choices, interpret the results and use your discoveries to make conclusions about customers."
   ]
  },
  {
   "cell_type": "markdown",
   "id": "e04a6734",
   "metadata": {
    "id": "e04a6734"
   },
   "source": [
    "We need to find if there is any statistical evidence to claim that the travel distance positively correlates with the average rate at which electricity is consumed during the trip. To investigate linear relationships between two numerical variables, the Pearson correlation test can be performed for normally distributed variables and spearman can be used for non-normally distributed variables."
   ]
  },
  {
   "cell_type": "code",
   "execution_count": 33,
   "id": "0374175d",
   "metadata": {
    "id": "0374175d",
    "outputId": "6f92c774-98f5-4454-d86c-2a17e32cbf2f"
   },
   "outputs": [
    {
     "name": "stdout",
     "output_type": "stream",
     "text": [
      "Since the data is not normal, we will use spearman correlation\n",
      "Correlation Coefficient :  0.8326462278716245\n",
      "P value :  0.0\n",
      "There is statistically significant difference\n",
      "The travel distance positively correlates with the average rate at which electricity is consumed during the trip\n"
     ]
    }
   ],
   "source": [
    "# Calculate the correlation coefficient and p-value\n",
    "if  (test_normal(p_duration_single) & test_normal(p_duration_season)):\n",
    "    print(\"Since the data is normal, we will use pearsons correlation\")\n",
    "    correlation_coeff, p_val = stats.pearsonr(bikes[\"distance\"], bikes[\"energy_used\"])\n",
    "\n",
    "else:\n",
    "    print(\"Since the data is not normal, we will use spearman correlation\")\n",
    "    correlation_coeff, p_val = stats.spearmanr(bikes[\"distance\"], bikes[\"energy_used\"])\n",
    "\n",
    "\n",
    "print(\"Correlation Coefficient : \",correlation_coeff)\n",
    "print(\"P value : \",p_val)\n",
    "\n",
    "if(p_val>=0.5):\n",
    "    print(\"There is no statistically significant difference\")\n",
    "    print(\"There is no relationship between travel distance & average rate at which electricity is consumed during the trip\")\n",
    "else:\n",
    "    print(\"There is statistically significant difference\")\n",
    "    print(\"The travel distance positively correlates with the average rate at which electricity is consumed during the trip\")"
   ]
  },
  {
   "cell_type": "code",
   "execution_count": 34,
   "id": "1cfa9090",
   "metadata": {
    "id": "1cfa9090",
    "outputId": "5422e799-ef8f-40f3-f523-9d455da88b73"
   },
   "outputs": [
    {
     "data": {
      "text/plain": [
       "<Axes: >"
      ]
     },
     "execution_count": 34,
     "metadata": {},
     "output_type": "execute_result"
    },
    {
     "data": {
      "image/png": "[encoded data removed]",
      "text/plain": [
       "<Figure size 640x480 with 2 Axes>"
      ]
     },
     "metadata": {},
     "output_type": "display_data"
    }
   ],
   "source": [
    "spearman_corr = bikes[['distance', 'energy_used']].corr(method=\"spearman\")\n",
    "\n",
    "sns.heatmap(spearman_corr, annot=True)"
   ]
  },
  {
   "cell_type": "markdown",
   "id": "81cef95a",
   "metadata": {
    "id": "81cef95a"
   },
   "source": [
    "The null hypothesis states that no association exists between the variables. The result indicates that the null hypothesis may be rejected, since the correlation coefficient is 0.832 and the p-value is 0.05. Since in this case, the p value is less than 0.05, the null hypothesis can be rejected and the alternative one can be accepted and correlation coefficient is 0.85. The outcome indicates that the null hypothesis may be rejected and there is a high connection between the two variables."
   ]
  },
  {
   "cell_type": "markdown",
   "id": "c611370a",
   "metadata": {
    "id": "c611370a"
   },
   "source": [
    "## 3. Is there statistical evidence to claim that the savonia ticket type differs from the others with respect to how often the electric assistance is used? Justify your design choices, interpret the results and use your discoveries to make conclusions about customers."
   ]
  },
  {
   "cell_type": "code",
   "execution_count": 35,
   "id": "2c081bad",
   "metadata": {
    "id": "2c081bad",
    "outputId": "6c783b8f-e575-4384-81be-e96ddfc52492"
   },
   "outputs": [
    {
     "name": "stdout",
     "output_type": "stream",
     "text": [
      "ticket      savonia  season  single\n",
      "assistance                         \n",
      "0                32      17      49\n",
      "1               193     448     778\n",
      "\n",
      "\n",
      "P-value: 5.363860741516123e-07\n"
     ]
    }
   ],
   "source": [
    "df=bikes\n",
    "contigency = pd.crosstab(bikes['assistance'], bikes['ticket'])\n",
    "print(contigency)\n",
    "\n",
    "#Chi-square test of independence.\n",
    "res = stats.chi2_contingency(contigency)\n",
    "print('\\n')\n",
    "print(\"P-value: \" + str(res.pvalue))\n"
   ]
  },
  {
   "cell_type": "markdown",
   "id": "b7dd69f9",
   "metadata": {
    "id": "b7dd69f9"
   },
   "source": [
    "To find if the savonia ticket type differs from the others with respect to how often the electric assistance is used, we can prepare a contingency table and run a statistical test suitable for categorical values as we will be dealing with categorical values(variable the observable values are distinct classes)."
   ]
  },
  {
   "cell_type": "markdown",
   "id": "6a975ba8",
   "metadata": {
    "id": "6a975ba8"
   },
   "source": [
    "The Chi-square test of independence is best suited for analyzing categorical data. The null hypothesis is that the group savonia is not different from other groups. A reasonable technique to do a chi-squared test is to first construct the contigency table. There is no need to verify for normalcy because the variables are categorical. Because the p-value is less than 0.05, the null hypothesis can be rejected. That is, ticket groups and electric assistance are not independent, i.e. there is statistical proof that there is a difference in electric assistance consumption between savonia ticket and other types."
   ]
  },
  {
   "cell_type": "markdown",
   "id": "e4ae3163",
   "metadata": {
    "id": "e4ae3163"
   },
   "source": [
    "P-value: 5.363860741516123e-07 < 0.05, therefore, there is statistically significant difference between electric assistance used by savonia with the two ticket types."
   ]
  },
  {
   "cell_type": "code",
   "execution_count": 36,
   "id": "5204c7e8",
   "metadata": {
    "id": "5204c7e8",
    "outputId": "a4c72904-aebd-4b19-f818-b7403bb790b7"
   },
   "outputs": [
    {
     "data": {
      "text/html": [
       "<div>\n",
       "<style scoped>\n",
       "    .dataframe tbody tr th:only-of-type {\n",
       "        vertical-align: middle;\n",
       "    }\n",
       "\n",
       "    .dataframe tbody tr th {\n",
       "        vertical-align: top;\n",
       "    }\n",
       "\n",
       "    .dataframe thead th {\n",
       "        text-align: right;\n",
       "    }\n",
       "</style>\n",
       "<table border=\"1\" class=\"dataframe\">\n",
       "  <thead>\n",
       "    <tr style=\"text-align: right;\">\n",
       "      <th></th>\n",
       "      <th>ticket</th>\n",
       "      <th>cost</th>\n",
       "      <th>month</th>\n",
       "      <th>location_from</th>\n",
       "      <th>location_to</th>\n",
       "      <th>duration</th>\n",
       "      <th>distance</th>\n",
       "      <th>assistance</th>\n",
       "      <th>energy_used</th>\n",
       "      <th>energy_collected</th>\n",
       "      <th>net_energy_gain</th>\n",
       "    </tr>\n",
       "  </thead>\n",
       "  <tbody>\n",
       "    <tr>\n",
       "      <th>0</th>\n",
       "      <td>single</td>\n",
       "      <td>0.35</td>\n",
       "      <td>9</td>\n",
       "      <td>MICROTEKNIA</td>\n",
       "      <td>PUIJONLAAKSO</td>\n",
       "      <td>411.0</td>\n",
       "      <td>2150</td>\n",
       "      <td>1</td>\n",
       "      <td>19.0</td>\n",
       "      <td>2.7</td>\n",
       "      <td>-16.3</td>\n",
       "    </tr>\n",
       "    <tr>\n",
       "      <th>1</th>\n",
       "      <td>single</td>\n",
       "      <td>1.20</td>\n",
       "      <td>5</td>\n",
       "      <td>SATAMA</td>\n",
       "      <td>KEILANKANTA</td>\n",
       "      <td>1411.0</td>\n",
       "      <td>7130</td>\n",
       "      <td>1</td>\n",
       "      <td>53.8</td>\n",
       "      <td>15.3</td>\n",
       "      <td>-38.5</td>\n",
       "    </tr>\n",
       "    <tr>\n",
       "      <th>2</th>\n",
       "      <td>savonia</td>\n",
       "      <td>0.00</td>\n",
       "      <td>9</td>\n",
       "      <td>TASAVALLANKATU</td>\n",
       "      <td>NEULAMÄKI</td>\n",
       "      <td>1308.0</td>\n",
       "      <td>5420</td>\n",
       "      <td>1</td>\n",
       "      <td>43.0</td>\n",
       "      <td>9.9</td>\n",
       "      <td>-33.1</td>\n",
       "    </tr>\n",
       "    <tr>\n",
       "      <th>3</th>\n",
       "      <td>savonia</td>\n",
       "      <td>0.00</td>\n",
       "      <td>10</td>\n",
       "      <td>TORI</td>\n",
       "      <td>KAUPPAKATU</td>\n",
       "      <td>1036.0</td>\n",
       "      <td>1180</td>\n",
       "      <td>1</td>\n",
       "      <td>6.5</td>\n",
       "      <td>2.1</td>\n",
       "      <td>-4.4</td>\n",
       "    </tr>\n",
       "    <tr>\n",
       "      <th>4</th>\n",
       "      <td>single</td>\n",
       "      <td>0.30</td>\n",
       "      <td>9</td>\n",
       "      <td>TORI</td>\n",
       "      <td>TORI</td>\n",
       "      <td>319.0</td>\n",
       "      <td>1120</td>\n",
       "      <td>1</td>\n",
       "      <td>13.7</td>\n",
       "      <td>1.2</td>\n",
       "      <td>-12.5</td>\n",
       "    </tr>\n",
       "  </tbody>\n",
       "</table>\n",
       "</div>"
      ],
      "text/plain": [
       "    ticket  cost month   location_from   location_to  duration  distance  \\\n",
       "0   single  0.35     9     MICROTEKNIA  PUIJONLAAKSO     411.0      2150   \n",
       "1   single  1.20     5          SATAMA   KEILANKANTA    1411.0      7130   \n",
       "2  savonia  0.00     9  TASAVALLANKATU     NEULAMÄKI    1308.0      5420   \n",
       "3  savonia  0.00    10            TORI    KAUPPAKATU    1036.0      1180   \n",
       "4   single  0.30     9            TORI          TORI     319.0      1120   \n",
       "\n",
       "  assistance  energy_used  energy_collected  net_energy_gain  \n",
       "0          1         19.0               2.7            -16.3  \n",
       "1          1         53.8              15.3            -38.5  \n",
       "2          1         43.0               9.9            -33.1  \n",
       "3          1          6.5               2.1             -4.4  \n",
       "4          1         13.7               1.2            -12.5  "
      ]
     },
     "execution_count": 36,
     "metadata": {},
     "output_type": "execute_result"
    }
   ],
   "source": [
    "bikes.head(5)"
   ]
  },
  {
   "cell_type": "markdown",
   "id": "bfcf66e4",
   "metadata": {
    "id": "bfcf66e4"
   },
   "source": [
    "## **Future directions**\n",
    "\n",
    "The statistical analysis outlined above is definitely not perfect. There must be plenty of other hypotheses that could be examined to improve our rental operations, and the questions we ask above could perhaps be tweaked to better address the needs we have. Since the marketing, logistics and maintenance teams could not come up with other hypotheses or further adjustments, it is up to you to propose improvements to the analysis.\n",
    "\n",
    "## (A) Formulate your own hypothesis about the use of rental electric bikes. Explain why your hypothesis would be important to explore. Describe how the hypothesis could be tested. (You do not have to perform the analysis.)"
   ]
  },
  {
   "cell_type": "markdown",
   "id": "37bc4f23",
   "metadata": {
    "id": "37bc4f23"
   },
   "source": [
    "My Hypothesis:  \n",
    "Is there a difference in distance traversed when electric assistance is used or not used for different ticket types?"
   ]
  },
  {
   "cell_type": "code",
   "execution_count": 37,
   "id": "413ca7ef",
   "metadata": {
    "id": "413ca7ef",
    "outputId": "90843437-24ca-41e0-a9d7-2f4e5aea445a"
   },
   "outputs": [
    {
     "data": {
      "text/plain": [
       "ticket\n",
       "savonia    -2118.3\n",
       "season     -7082.8\n",
       "single    -11661.5\n",
       "Name: net_energy_gain, dtype: float64"
      ]
     },
     "execution_count": 37,
     "metadata": {},
     "output_type": "execute_result"
    }
   ],
   "source": [
    "bikes[\"net_energy_gain\"].groupby(bikes[\"ticket\"]).sum()"
   ]
  },
  {
   "cell_type": "markdown",
   "id": "138faf94",
   "metadata": {
    "id": "138faf94"
   },
   "source": [
    "My hypothesis would be important to explore because as demonstrated by the output cell above because it is necessary to find out which option is more preferred for long distance traversals and for different ticket types. A very important factor contributing to the total distance traversed can electric assistance usage and hence it could be necessary to explore this."
   ]
  },
  {
   "cell_type": "markdown",
   "id": "c3202474",
   "metadata": {
    "id": "c3202474"
   },
   "source": [
    "\n",
    "\n",
    "## The steps for testing this hypothesis:\n",
    "\n",
    "    1. First we will find out if the distance variable and electric assistance variable is normal by using Shapiro Wilk Test since they are both numerical variables.\n",
    "    \n",
    "    2. Then find out if there exists any correlation between them using spearman method if any of the variables are not normally distributed and pearson correlation if they are both normally distributed.\n",
    "    \n",
    "    3. If the p value comes out to be less than a significant level(say 0.05), then our hypothesis will be true and otherwise can be rejected.\n",
    "    \n",
    "    4. If the correlation is negative, there is a negative correlation between distance and electric assistance usage(yes or no), and if the correlation is positive, there is a positive correlation and if the result is 0, there is no correlation between these two variables.\n",
    "    \n",
    "    5. We will conduct these steps for all 3 ticket types(single, season and savonia).\n",
    "    "
   ]
  },
  {
   "cell_type": "code",
   "execution_count": null,
   "id": "bbc0bfa2",
   "metadata": {
    "id": "bbc0bfa2"
   },
   "outputs": [],
   "source": []
  },
  {
   "cell_type": "code",
   "execution_count": null,
   "id": "edff0df3",
   "metadata": {
    "id": "edff0df3"
   },
   "outputs": [],
   "source": []
  },
  {
   "cell_type": "code",
   "execution_count": null,
   "id": "78f06771",
   "metadata": {
    "id": "78f06771"
   },
   "outputs": [],
   "source": []
  },
  {
   "cell_type": "code",
   "execution_count": null,
   "id": "b237b981",
   "metadata": {
    "id": "b237b981"
   },
   "outputs": [],
   "source": []
  },
  {
   "cell_type": "code",
   "execution_count": null,
   "id": "cfc237b9",
   "metadata": {
    "id": "cfc237b9"
   },
   "outputs": [],
   "source": []
  },
  {
   "cell_type": "code",
   "execution_count": null,
   "id": "5112fc8e",
   "metadata": {
    "id": "5112fc8e"
   },
   "outputs": [],
   "source": []
  },
  {
   "cell_type": "code",
   "execution_count": null,
   "id": "ab75e1db",
   "metadata": {
    "id": "ab75e1db"
   },
   "outputs": [],
   "source": []
  }
 ],
 "metadata": {
  "colab": {
   "provenance": []
  },
  "kernelspec": {
   "display_name": "Python 3 (ipykernel)",
   "language": "python",
   "name": "python3"
  },
  "language_info": {
   "codemirror_mode": {
    "name": "ipython",
    "version": 3
   },
   "file_extension": ".py",
   "mimetype": "text/x-python",
   "name": "python",
   "nbconvert_exporter": "python",
   "pygments_lexer": "ipython3",
   "version": "3.11.3"
  }
 },
 "nbformat": 4,
 "nbformat_minor": 5
}
