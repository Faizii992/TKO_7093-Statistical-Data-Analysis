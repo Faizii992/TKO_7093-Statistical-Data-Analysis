{
 "cells": [
  {
   "cell_type": "code",
   "execution_count": 1,
   "id": "97c03881",
   "metadata": {},
   "outputs": [],
   "source": [
    "import pandas as pd\n",
    "import numpy as np\n",
    "import numpy as np\n"
   ]
  },
  {
   "cell_type": "markdown",
   "id": "80e66da7",
   "metadata": {},
   "source": [
    "## 1.\n",
    "\n",
    "Download the file `allbp.data` from the `Thyroid Disease Data Set` available at https://archive.ics.uci.edu/ml/datasets/Thyroid+Disease (see the files in the `Data Folder`).\n",
    "\n",
    "Load and preprocess the data so that it is ready for analysis. (Check categorical variables, missing values, variable names and so on.) Use the file `allbp.names` to your advantage.\n",
    "\n",
    "1. How many observations and how many variables are there in the data?\n",
    "\n",
    "1. Which variables have missing values? How many?\n",
    "\n"
   ]
  },
  {
   "cell_type": "code",
   "execution_count": 2,
   "id": "231f30ff",
   "metadata": {},
   "outputs": [
    {
     "data": {
      "text/plain": [
       "['age',\n",
       " 'sex',\n",
       " 'on thyroxine',\n",
       " 'query on thyroxine',\n",
       " 'on antithyroid medication',\n",
       " 'sick',\n",
       " 'pregnant',\n",
       " 'thyroid surgery',\n",
       " 'I131 treatment',\n",
       " 'query hypothyroid',\n",
       " 'query hyperthyroid',\n",
       " 'lithium',\n",
       " 'goitre',\n",
       " 'tumor',\n",
       " 'hypopituitary',\n",
       " 'psych',\n",
       " 'TSH measured',\n",
       " 'TSH',\n",
       " 'T3 measured',\n",
       " 'T3',\n",
       " 'TT4 measured',\n",
       " 'TT4',\n",
       " 'T4U measured',\n",
       " 'T4U',\n",
       " 'FTI measured',\n",
       " 'FTI',\n",
       " 'TBG measured',\n",
       " 'TBG',\n",
       " 'referral source',\n",
       " 'class']"
      ]
     },
     "execution_count": 2,
     "metadata": {},
     "output_type": "execute_result"
    }
   ],
   "source": [
    "allbp_columns=[]\n",
    "\n",
    "with open(\"allbp.names\") as f:\n",
    "    for line in f.readlines():\n",
    "        if \":\" in line:\n",
    "            for word in line.split(\":\"):\n",
    "                if \".\" not in word:\n",
    "                    allbp_columns.append(word)\n",
    "            \n",
    "allbp_columns.append(\"class\")     \n",
    "allbp_columns"
   ]
  },
  {
   "cell_type": "code",
   "execution_count": 3,
   "id": "00d074f9",
   "metadata": {},
   "outputs": [
    {
     "name": "stdout",
     "output_type": "stream",
     "text": [
      "No of Observations and variables:  (2800, 30)\n"
     ]
    }
   ],
   "source": [
    "# 1\n",
    "df=pd.read_csv(\"allbp.data\", index_col=None, sep=\",\",na_values='?', names=allbp_columns)\n",
    "#print(df.head(2))\n",
    "print(\"No of Observations and variables: \", df.shape)\n"
   ]
  },
  {
   "cell_type": "code",
   "execution_count": 4,
   "id": "4f2dd50c",
   "metadata": {},
   "outputs": [
    {
     "name": "stdout",
     "output_type": "stream",
     "text": [
      "age                             1\n",
      "sex                           110\n",
      "on thyroxine                    0\n",
      "query on thyroxine              0\n",
      "on antithyroid medication       0\n",
      "sick                            0\n",
      "pregnant                        0\n",
      "thyroid surgery                 0\n",
      "I131 treatment                  0\n",
      "query hypothyroid               0\n",
      "query hyperthyroid              0\n",
      "lithium                         0\n",
      "goitre                          0\n",
      "tumor                           0\n",
      "hypopituitary                   0\n",
      "psych                           0\n",
      "TSH measured                    0\n",
      "TSH                           284\n",
      "T3 measured                     0\n",
      "T3                            585\n",
      "TT4 measured                    0\n",
      "TT4                           184\n",
      "T4U measured                    0\n",
      "T4U                           297\n",
      "FTI measured                    0\n",
      "FTI                           295\n",
      "TBG measured                    0\n",
      "TBG                          2800\n",
      "referral source                 0\n",
      "class                           0\n",
      "dtype: int64\n",
      "\n"
     ]
    }
   ],
   "source": [
    "# 2\n",
    "\n",
    "print(df.isna().sum(), end=\"\\n\\n\")\n",
    "\n",
    "# one value is missing from 'age'\n",
    "# hundreds of values are missing from 'sex', 'TSH', 'T3', etc."
   ]
  },
  {
   "cell_type": "code",
   "execution_count": 5,
   "id": "a6ae81fb",
   "metadata": {},
   "outputs": [
    {
     "name": "stdout",
     "output_type": "stream",
     "text": [
      "Index(['age', 'sex', 'TSH', 'T3', 'TT4', 'T4U', 'FTI', 'TBG'], dtype='object')\n"
     ]
    }
   ],
   "source": [
    "print(df.columns[df.isnull().any()])\n"
   ]
  },
  {
   "cell_type": "code",
   "execution_count": 6,
   "id": "80bd52e3",
   "metadata": {},
   "outputs": [
    {
     "data": {
      "text/html": [
       "<div>\n",
       "<style scoped>\n",
       "    .dataframe tbody tr th:only-of-type {\n",
       "        vertical-align: middle;\n",
       "    }\n",
       "\n",
       "    .dataframe tbody tr th {\n",
       "        vertical-align: top;\n",
       "    }\n",
       "\n",
       "    .dataframe thead th {\n",
       "        text-align: right;\n",
       "    }\n",
       "</style>\n",
       "<table border=\"1\" class=\"dataframe\">\n",
       "  <thead>\n",
       "    <tr style=\"text-align: right;\">\n",
       "      <th></th>\n",
       "      <th>age</th>\n",
       "      <th>sex</th>\n",
       "      <th>on thyroxine</th>\n",
       "      <th>query on thyroxine</th>\n",
       "      <th>on antithyroid medication</th>\n",
       "      <th>sick</th>\n",
       "      <th>pregnant</th>\n",
       "      <th>thyroid surgery</th>\n",
       "      <th>I131 treatment</th>\n",
       "      <th>query hypothyroid</th>\n",
       "      <th>...</th>\n",
       "      <th>TT4 measured</th>\n",
       "      <th>TT4</th>\n",
       "      <th>T4U measured</th>\n",
       "      <th>T4U</th>\n",
       "      <th>FTI measured</th>\n",
       "      <th>FTI</th>\n",
       "      <th>TBG measured</th>\n",
       "      <th>TBG</th>\n",
       "      <th>referral source</th>\n",
       "      <th>class</th>\n",
       "    </tr>\n",
       "  </thead>\n",
       "  <tbody>\n",
       "    <tr>\n",
       "      <th>0</th>\n",
       "      <td>41.0</td>\n",
       "      <td>F</td>\n",
       "      <td>f</td>\n",
       "      <td>f</td>\n",
       "      <td>f</td>\n",
       "      <td>f</td>\n",
       "      <td>f</td>\n",
       "      <td>f</td>\n",
       "      <td>f</td>\n",
       "      <td>f</td>\n",
       "      <td>...</td>\n",
       "      <td>t</td>\n",
       "      <td>125.0</td>\n",
       "      <td>t</td>\n",
       "      <td>1.14</td>\n",
       "      <td>t</td>\n",
       "      <td>109.0</td>\n",
       "      <td>f</td>\n",
       "      <td>NaN</td>\n",
       "      <td>SVHC</td>\n",
       "      <td>negative.|3733</td>\n",
       "    </tr>\n",
       "    <tr>\n",
       "      <th>1</th>\n",
       "      <td>23.0</td>\n",
       "      <td>F</td>\n",
       "      <td>f</td>\n",
       "      <td>f</td>\n",
       "      <td>f</td>\n",
       "      <td>f</td>\n",
       "      <td>f</td>\n",
       "      <td>f</td>\n",
       "      <td>f</td>\n",
       "      <td>f</td>\n",
       "      <td>...</td>\n",
       "      <td>t</td>\n",
       "      <td>102.0</td>\n",
       "      <td>f</td>\n",
       "      <td>NaN</td>\n",
       "      <td>f</td>\n",
       "      <td>NaN</td>\n",
       "      <td>f</td>\n",
       "      <td>NaN</td>\n",
       "      <td>other</td>\n",
       "      <td>negative.|1442</td>\n",
       "    </tr>\n",
       "    <tr>\n",
       "      <th>2</th>\n",
       "      <td>46.0</td>\n",
       "      <td>M</td>\n",
       "      <td>f</td>\n",
       "      <td>f</td>\n",
       "      <td>f</td>\n",
       "      <td>f</td>\n",
       "      <td>f</td>\n",
       "      <td>f</td>\n",
       "      <td>f</td>\n",
       "      <td>f</td>\n",
       "      <td>...</td>\n",
       "      <td>t</td>\n",
       "      <td>109.0</td>\n",
       "      <td>t</td>\n",
       "      <td>0.91</td>\n",
       "      <td>t</td>\n",
       "      <td>120.0</td>\n",
       "      <td>f</td>\n",
       "      <td>NaN</td>\n",
       "      <td>other</td>\n",
       "      <td>negative.|2965</td>\n",
       "    </tr>\n",
       "    <tr>\n",
       "      <th>3</th>\n",
       "      <td>70.0</td>\n",
       "      <td>F</td>\n",
       "      <td>t</td>\n",
       "      <td>f</td>\n",
       "      <td>f</td>\n",
       "      <td>f</td>\n",
       "      <td>f</td>\n",
       "      <td>f</td>\n",
       "      <td>f</td>\n",
       "      <td>f</td>\n",
       "      <td>...</td>\n",
       "      <td>t</td>\n",
       "      <td>175.0</td>\n",
       "      <td>f</td>\n",
       "      <td>NaN</td>\n",
       "      <td>f</td>\n",
       "      <td>NaN</td>\n",
       "      <td>f</td>\n",
       "      <td>NaN</td>\n",
       "      <td>other</td>\n",
       "      <td>negative.|806</td>\n",
       "    </tr>\n",
       "    <tr>\n",
       "      <th>4</th>\n",
       "      <td>70.0</td>\n",
       "      <td>F</td>\n",
       "      <td>f</td>\n",
       "      <td>f</td>\n",
       "      <td>f</td>\n",
       "      <td>f</td>\n",
       "      <td>f</td>\n",
       "      <td>f</td>\n",
       "      <td>f</td>\n",
       "      <td>f</td>\n",
       "      <td>...</td>\n",
       "      <td>t</td>\n",
       "      <td>61.0</td>\n",
       "      <td>t</td>\n",
       "      <td>0.87</td>\n",
       "      <td>t</td>\n",
       "      <td>70.0</td>\n",
       "      <td>f</td>\n",
       "      <td>NaN</td>\n",
       "      <td>SVI</td>\n",
       "      <td>negative.|2807</td>\n",
       "    </tr>\n",
       "  </tbody>\n",
       "</table>\n",
       "<p>5 rows × 30 columns</p>\n",
       "</div>"
      ],
      "text/plain": [
       "    age sex on thyroxine query on thyroxine on antithyroid medication sick  \\\n",
       "0  41.0   F            f                  f                         f    f   \n",
       "1  23.0   F            f                  f                         f    f   \n",
       "2  46.0   M            f                  f                         f    f   \n",
       "3  70.0   F            t                  f                         f    f   \n",
       "4  70.0   F            f                  f                         f    f   \n",
       "\n",
       "  pregnant thyroid surgery I131 treatment query hypothyroid  ... TT4 measured  \\\n",
       "0        f               f              f                 f  ...            t   \n",
       "1        f               f              f                 f  ...            t   \n",
       "2        f               f              f                 f  ...            t   \n",
       "3        f               f              f                 f  ...            t   \n",
       "4        f               f              f                 f  ...            t   \n",
       "\n",
       "     TT4 T4U measured   T4U FTI measured    FTI TBG measured  TBG  \\\n",
       "0  125.0            t  1.14            t  109.0            f  NaN   \n",
       "1  102.0            f   NaN            f    NaN            f  NaN   \n",
       "2  109.0            t  0.91            t  120.0            f  NaN   \n",
       "3  175.0            f   NaN            f    NaN            f  NaN   \n",
       "4   61.0            t  0.87            t   70.0            f  NaN   \n",
       "\n",
       "  referral source           class  \n",
       "0            SVHC  negative.|3733  \n",
       "1           other  negative.|1442  \n",
       "2           other  negative.|2965  \n",
       "3           other   negative.|806  \n",
       "4             SVI  negative.|2807  \n",
       "\n",
       "[5 rows x 30 columns]"
      ]
     },
     "execution_count": 6,
     "metadata": {},
     "output_type": "execute_result"
    }
   ],
   "source": [
    "\n",
    "df.head()\n"
   ]
  },
  {
   "cell_type": "markdown",
   "id": "2d15b973",
   "metadata": {},
   "source": [
    "## 2.\n",
    "\n",
    "Using the data you prepared above,\n",
    "\n",
    "1. for each variable that has only yes/no values, calculate the number of `yes` values divided by the number of observations.\n",
    "\n",
    "1. for each of the `TSH`, `T3`, `TT4`, `T4U`, `FTI` and `TBG` variables, calculate the sum of the squared values divided by the number of non-NA values.\n",
    "\n",
    "1. calculate the mean ratio between `T3` and `TT4`."
   ]
  },
  {
   "cell_type": "code",
   "execution_count": 7,
   "id": "196f8d5c",
   "metadata": {},
   "outputs": [
    {
     "name": "stdout",
     "output_type": "stream",
     "text": [
      "For  on thyroxine  the count is  0.11785714285714285\n",
      "For  query on thyroxine  the count is  0.014285714285714285\n",
      "For  on antithyroid medication  the count is  0.012142857142857143\n",
      "For  sick  the count is  0.039285714285714285\n",
      "For  pregnant  the count is  0.014642857142857143\n",
      "For  thyroid surgery  the count is  0.013928571428571429\n",
      "For  I131 treatment  the count is  0.017142857142857144\n",
      "For  query hypothyroid  the count is  0.05821428571428571\n",
      "For  query hyperthyroid  the count is  0.061785714285714284\n",
      "For  lithium  the count is  0.005\n",
      "For  goitre  the count is  0.008928571428571428\n",
      "For  tumor  the count is  0.025357142857142856\n",
      "For  hypopituitary  the count is  0.00035714285714285714\n",
      "For  psych  the count is  0.048214285714285716\n",
      "For  TSH measured  the count is  0.8985714285714286\n",
      "For  T3 measured  the count is  0.7910714285714285\n",
      "For  TT4 measured  the count is  0.9342857142857143\n",
      "For  T4U measured  the count is  0.8939285714285714\n",
      "For  FTI measured  the count is  0.8946428571428572\n",
      "For  TBG measured  the count is  0.0\n"
     ]
    }
   ],
   "source": [
    "# 1\n",
    "\n",
    "for col in df.columns:\n",
    "    yes=0\n",
    "    total=0\n",
    "    flag=0\n",
    "    for row in range(df.shape[0]):\n",
    "        if(df.loc[row,col] ==\"t\"):\n",
    "            yes+=1\n",
    "            total+=1\n",
    "        elif(df.loc[row,col] ==\"f\"):\n",
    "            total+=1\n",
    "        else:\n",
    "            flag=1\n",
    "    if(flag==0):\n",
    "        print(\"For \",col,\" the count is \", yes/total)\n",
    "\n",
    "    "
   ]
  },
  {
   "cell_type": "code",
   "execution_count": null,
   "id": "aeb4876b",
   "metadata": {},
   "outputs": [],
   "source": []
  },
  {
   "cell_type": "code",
   "execution_count": 8,
   "id": "f0b47915",
   "metadata": {},
   "outputs": [
    {
     "name": "stdout",
     "output_type": "stream",
     "text": [
      "Ratio for  TSH  is:  481.7251481915739\n",
      "Ratio for  T3  is:  4.780146726862301\n",
      "Ratio for  TT4  is:  13148.934755351682\n",
      "Ratio for  T4U  is:  1.0336011330403516\n",
      "Ratio for  FTI  is:  13354.902247504991\n",
      "Ratio for  TBG  is:  0\n"
     ]
    }
   ],
   "source": [
    "#for each of the TSH, T3, TT4, T4U, FTI and TBG variables, calculate the sum of the squared values divided by the number of non-NA values.\n",
    "# 2 \n",
    "\n",
    "var1=[\"TSH\", \"T3\", \"TT4\", \"T4U\", \"FTI\", \"TBG\"]\n",
    "df_=df[var1]\n",
    "\n",
    "\n",
    "for col in df_.columns:\n",
    "    squared_vals_sum=(df_[col].astype(float)**2).sum()\n",
    "    count_non_na=df_[col].count()\n",
    "    if count_non_na==0:\n",
    "        print(\"Ratio for \",col, \" is: \", 0)\n",
    "    else:\n",
    "        ratio=squared_vals_sum/count_non_na\n",
    "        print(\"Ratio for \",col, \" is: \", ratio)\n",
    "\n",
    "\n"
   ]
  },
  {
   "cell_type": "code",
   "execution_count": 9,
   "id": "7937dc95",
   "metadata": {},
   "outputs": [
    {
     "name": "stdout",
     "output_type": "stream",
     "text": [
      "0.019673501919946535\n"
     ]
    }
   ],
   "source": [
    "# 3\n",
    "# calculate the mean ratio between T3 and TT4.\n",
    "\n",
    "mean_ratio_t3_t4=(df[\"T3\"].astype(float)/df[\"TT4\"].astype(float)).mean()\n",
    "\n",
    "print(mean_ratio_t3_t4)"
   ]
  },
  {
   "cell_type": "code",
   "execution_count": null,
   "id": "463f9219",
   "metadata": {},
   "outputs": [],
   "source": []
  },
  {
   "cell_type": "markdown",
   "id": "4320c7c7",
   "metadata": {},
   "source": [
    "## 3.\n",
    "\n",
    "Load the data available in the file `13-data.csv`.\n",
    "\n",
    "1. Find invalid values in the data and replace them either with a correct value (if possible) or with NaN.\n",
    "\n",
    "1. Replace all missing values of the `purchases` variable with zero.\n",
    "\n",
    "1. Use median imputation to fill in all missing values of the `retention_time` variable.  \n",
    "(BONUS) Group the observations by `sex` and `location` before calculating the substitute median(s)."
   ]
  },
  {
   "cell_type": "code",
   "execution_count": 10,
   "id": "0d71d1df",
   "metadata": {},
   "outputs": [
    {
     "data": {
      "text/html": [
       "<div>\n",
       "<style scoped>\n",
       "    .dataframe tbody tr th:only-of-type {\n",
       "        vertical-align: middle;\n",
       "    }\n",
       "\n",
       "    .dataframe tbody tr th {\n",
       "        vertical-align: top;\n",
       "    }\n",
       "\n",
       "    .dataframe thead th {\n",
       "        text-align: right;\n",
       "    }\n",
       "</style>\n",
       "<table border=\"1\" class=\"dataframe\">\n",
       "  <thead>\n",
       "    <tr style=\"text-align: right;\">\n",
       "      <th></th>\n",
       "      <th>sex</th>\n",
       "      <th>location</th>\n",
       "      <th>purchases</th>\n",
       "      <th>retention_time</th>\n",
       "    </tr>\n",
       "  </thead>\n",
       "  <tbody>\n",
       "    <tr>\n",
       "      <th>0</th>\n",
       "      <td>female</td>\n",
       "      <td>Helsinki</td>\n",
       "      <td>7.0</td>\n",
       "      <td>57.1</td>\n",
       "    </tr>\n",
       "    <tr>\n",
       "      <th>1</th>\n",
       "      <td>female</td>\n",
       "      <td>Helsinki</td>\n",
       "      <td>5.0</td>\n",
       "      <td>NaN</td>\n",
       "    </tr>\n",
       "    <tr>\n",
       "      <th>2</th>\n",
       "      <td>female</td>\n",
       "      <td>Turku</td>\n",
       "      <td>8.0</td>\n",
       "      <td>50.6</td>\n",
       "    </tr>\n",
       "    <tr>\n",
       "      <th>3</th>\n",
       "      <td>male</td>\n",
       "      <td>Helsinki</td>\n",
       "      <td>5.0</td>\n",
       "      <td>31.7</td>\n",
       "    </tr>\n",
       "    <tr>\n",
       "      <th>4</th>\n",
       "      <td>female</td>\n",
       "      <td>Helsinki</td>\n",
       "      <td>2.0</td>\n",
       "      <td>120.0</td>\n",
       "    </tr>\n",
       "  </tbody>\n",
       "</table>\n",
       "</div>"
      ],
      "text/plain": [
       "      sex  location  purchases  retention_time\n",
       "0  female  Helsinki        7.0            57.1\n",
       "1  female  Helsinki        5.0             NaN\n",
       "2  female     Turku        8.0            50.6\n",
       "3    male  Helsinki        5.0            31.7\n",
       "4  female  Helsinki        2.0           120.0"
      ]
     },
     "execution_count": 10,
     "metadata": {},
     "output_type": "execute_result"
    }
   ],
   "source": [
    "df2=pd.read_csv(\"Data files-20230903/13-data.csv\")\n",
    "df2.head()"
   ]
  },
  {
   "cell_type": "code",
   "execution_count": 11,
   "id": "ee618684",
   "metadata": {},
   "outputs": [
    {
     "data": {
      "text/plain": [
       "sex     location  purchases  retention_time\n",
       "female  20100     9.0        95.0              1\n",
       "male    Helsinki  9.0        1.2               1\n",
       "                  7.0        16.7              1\n",
       "                             28.1              1\n",
       "                             32.9              1\n",
       "                                              ..\n",
       "female  Turku     3.0        47.6              1\n",
       "                             140.1             1\n",
       "                  4.0        16.6              1\n",
       "                             56.0              1\n",
       "nale    Turku     0.0        106.1             1\n",
       "Length: 169, dtype: int64"
      ]
     },
     "execution_count": 11,
     "metadata": {},
     "output_type": "execute_result"
    }
   ],
   "source": [
    "df2.value_counts()"
   ]
  },
  {
   "cell_type": "code",
   "execution_count": null,
   "id": "2ce19834",
   "metadata": {},
   "outputs": [],
   "source": []
  },
  {
   "cell_type": "code",
   "execution_count": 12,
   "id": "0f88d31d",
   "metadata": {},
   "outputs": [],
   "source": [
    "# 1\n",
    "df2.replace(\"nale\",\"male\",inplace=True)\n",
    "df2.replace(\"20100\",\"Turku\",inplace=True)\n",
    "df2.replace(\"33100\",\"Helsinki\",inplace=True)"
   ]
  },
  {
   "cell_type": "code",
   "execution_count": 13,
   "id": "6ace65c4",
   "metadata": {},
   "outputs": [
    {
     "data": {
      "text/plain": [
       "sex     location  purchases  retention_time\n",
       "female  Helsinki  1.0        20.5              1\n",
       "male    Helsinki  9.0        7.2               1\n",
       "                  7.0        28.1              1\n",
       "                             32.9              1\n",
       "                             45.5              1\n",
       "                                              ..\n",
       "female  Turku     3.0        140.1             1\n",
       "                  4.0        16.6              1\n",
       "                             56.0              1\n",
       "                  5.0        8.9               1\n",
       "male    Turku     10.0       6.0               1\n",
       "Length: 169, dtype: int64"
      ]
     },
     "execution_count": 13,
     "metadata": {},
     "output_type": "execute_result"
    }
   ],
   "source": [
    "df2.value_counts()"
   ]
  },
  {
   "cell_type": "code",
   "execution_count": 14,
   "id": "e9e56c6a",
   "metadata": {},
   "outputs": [
    {
     "data": {
      "text/plain": [
       "<bound method Series.unique of 0       57.1\n",
       "1        NaN\n",
       "2       50.6\n",
       "3       31.7\n",
       "4      120.0\n",
       "       ...  \n",
       "195     40.5\n",
       "196     36.9\n",
       "197     59.2\n",
       "198     31.8\n",
       "199    181.9\n",
       "Name: retention_time, Length: 200, dtype: float64>"
      ]
     },
     "execution_count": 14,
     "metadata": {},
     "output_type": "execute_result"
    }
   ],
   "source": [
    "df2[\"retention_time\"].unique"
   ]
  },
  {
   "cell_type": "code",
   "execution_count": 15,
   "id": "691975ac",
   "metadata": {},
   "outputs": [
    {
     "name": "stdout",
     "output_type": "stream",
     "text": [
      "sex                0\n",
      "location           0\n",
      "purchases          9\n",
      "retention_time    23\n",
      "dtype: int64\n",
      "After changing, the counts become: \n",
      "sex                0\n",
      "location           0\n",
      "purchases          0\n",
      "retention_time    23\n",
      "dtype: int64\n"
     ]
    }
   ],
   "source": [
    "# 2\n",
    "print(df2.isnull().sum())\n",
    "print(\"After changing, the counts become: \")\n",
    "df2[\"purchases\"].fillna(0, inplace=True)\n",
    "print(df2.isnull().sum())"
   ]
  },
  {
   "cell_type": "code",
   "execution_count": 16,
   "id": "3dc76949",
   "metadata": {},
   "outputs": [
    {
     "data": {
      "text/html": [
       "<div>\n",
       "<style scoped>\n",
       "    .dataframe tbody tr th:only-of-type {\n",
       "        vertical-align: middle;\n",
       "    }\n",
       "\n",
       "    .dataframe tbody tr th {\n",
       "        vertical-align: top;\n",
       "    }\n",
       "\n",
       "    .dataframe thead th {\n",
       "        text-align: right;\n",
       "    }\n",
       "</style>\n",
       "<table border=\"1\" class=\"dataframe\">\n",
       "  <thead>\n",
       "    <tr style=\"text-align: right;\">\n",
       "      <th></th>\n",
       "      <th>purchases</th>\n",
       "      <th>retention_time</th>\n",
       "    </tr>\n",
       "  </thead>\n",
       "  <tbody>\n",
       "    <tr>\n",
       "      <th>0</th>\n",
       "      <td>7.0</td>\n",
       "      <td>57.1</td>\n",
       "    </tr>\n",
       "    <tr>\n",
       "      <th>1</th>\n",
       "      <td>5.0</td>\n",
       "      <td>32.9</td>\n",
       "    </tr>\n",
       "    <tr>\n",
       "      <th>2</th>\n",
       "      <td>8.0</td>\n",
       "      <td>50.6</td>\n",
       "    </tr>\n",
       "    <tr>\n",
       "      <th>3</th>\n",
       "      <td>5.0</td>\n",
       "      <td>31.7</td>\n",
       "    </tr>\n",
       "    <tr>\n",
       "      <th>4</th>\n",
       "      <td>2.0</td>\n",
       "      <td>120.0</td>\n",
       "    </tr>\n",
       "    <tr>\n",
       "      <th>...</th>\n",
       "      <td>...</td>\n",
       "      <td>...</td>\n",
       "    </tr>\n",
       "    <tr>\n",
       "      <th>195</th>\n",
       "      <td>3.0</td>\n",
       "      <td>40.5</td>\n",
       "    </tr>\n",
       "    <tr>\n",
       "      <th>196</th>\n",
       "      <td>3.0</td>\n",
       "      <td>36.9</td>\n",
       "    </tr>\n",
       "    <tr>\n",
       "      <th>197</th>\n",
       "      <td>6.0</td>\n",
       "      <td>59.2</td>\n",
       "    </tr>\n",
       "    <tr>\n",
       "      <th>198</th>\n",
       "      <td>5.0</td>\n",
       "      <td>31.8</td>\n",
       "    </tr>\n",
       "    <tr>\n",
       "      <th>199</th>\n",
       "      <td>6.0</td>\n",
       "      <td>181.9</td>\n",
       "    </tr>\n",
       "  </tbody>\n",
       "</table>\n",
       "<p>200 rows × 2 columns</p>\n",
       "</div>"
      ],
      "text/plain": [
       "     purchases  retention_time\n",
       "0          7.0            57.1\n",
       "1          5.0            32.9\n",
       "2          8.0            50.6\n",
       "3          5.0            31.7\n",
       "4          2.0           120.0\n",
       "..         ...             ...\n",
       "195        3.0            40.5\n",
       "196        3.0            36.9\n",
       "197        6.0            59.2\n",
       "198        5.0            31.8\n",
       "199        6.0           181.9\n",
       "\n",
       "[200 rows x 2 columns]"
      ]
     },
     "execution_count": 16,
     "metadata": {},
     "output_type": "execute_result"
    }
   ],
   "source": [
    "# 3\n",
    "df2_imputed=df2.groupby([\"sex\",\"location\"]).fillna(df2[\"retention_time\"].median())\n",
    "df2_imputed\n",
    "#df2_imputed2=df2.fillna(df2[\"retention_time\"].median())\n",
    "#df2_imputed2"
   ]
  },
  {
   "cell_type": "code",
   "execution_count": null,
   "id": "38a4373a",
   "metadata": {},
   "outputs": [],
   "source": [
    "\n"
   ]
  },
  {
   "cell_type": "code",
   "execution_count": null,
   "id": "4f46fbd5",
   "metadata": {},
   "outputs": [],
   "source": []
  },
  {
   "cell_type": "code",
   "execution_count": null,
   "id": "2b749071",
   "metadata": {},
   "outputs": [],
   "source": []
  },
  {
   "cell_type": "markdown",
   "id": "748307fe",
   "metadata": {},
   "source": [
    "## 4.\n",
    "\n",
    "The files `14-helsinki.csv` and `14-espoo.csv` contain daily numbers of cyclists spotted on selected streets in Helsinki and Espoo. Load the files and merge the data into a single data frame.\n",
    "\n",
    "1. For how many days were observations made in total?\n",
    "\n",
    "1. How many observation days were there for each street?\n",
    "\n",
    "1. On how many days were all streets observed simultaneously?\n",
    "\n",
    "1. Which street was the busiest in terms of the total number of cyclists?\n",
    "\n",
    "1. Filter out the dates which have one or more missing values. Does this affect your conclusion about the busiest street? Why or why not?"
   ]
  },
  {
   "cell_type": "code",
   "execution_count": 17,
   "id": "4eaae953",
   "metadata": {},
   "outputs": [
    {
     "data": {
      "text/html": [
       "<div>\n",
       "<style scoped>\n",
       "    .dataframe tbody tr th:only-of-type {\n",
       "        vertical-align: middle;\n",
       "    }\n",
       "\n",
       "    .dataframe tbody tr th {\n",
       "        vertical-align: top;\n",
       "    }\n",
       "\n",
       "    .dataframe thead th {\n",
       "        text-align: right;\n",
       "    }\n",
       "</style>\n",
       "<table border=\"1\" class=\"dataframe\">\n",
       "  <thead>\n",
       "    <tr style=\"text-align: right;\">\n",
       "      <th></th>\n",
       "      <th>date</th>\n",
       "      <th>Gallen-Kallela</th>\n",
       "      <th>Länsiväylä</th>\n",
       "      <th>Länsituulenkuja</th>\n",
       "      <th>Eteläesplanadi</th>\n",
       "      <th>Kaivokatu</th>\n",
       "      <th>Kuusisaarentie</th>\n",
       "      <th>Merikannontie</th>\n",
       "    </tr>\n",
       "  </thead>\n",
       "  <tbody>\n",
       "    <tr>\n",
       "      <th>3131</th>\n",
       "      <td>2022-07-29</td>\n",
       "      <td>NaN</td>\n",
       "      <td>NaN</td>\n",
       "      <td>NaN</td>\n",
       "      <td>1657.0</td>\n",
       "      <td>2770.0</td>\n",
       "      <td>1201.0</td>\n",
       "      <td>1876.0</td>\n",
       "    </tr>\n",
       "    <tr>\n",
       "      <th>3132</th>\n",
       "      <td>2022-07-30</td>\n",
       "      <td>NaN</td>\n",
       "      <td>NaN</td>\n",
       "      <td>NaN</td>\n",
       "      <td>1397.0</td>\n",
       "      <td>2058.0</td>\n",
       "      <td>1123.0</td>\n",
       "      <td>1659.0</td>\n",
       "    </tr>\n",
       "    <tr>\n",
       "      <th>3133</th>\n",
       "      <td>2022-07-31</td>\n",
       "      <td>NaN</td>\n",
       "      <td>NaN</td>\n",
       "      <td>NaN</td>\n",
       "      <td>1269.0</td>\n",
       "      <td>1919.0</td>\n",
       "      <td>1347.0</td>\n",
       "      <td>2125.0</td>\n",
       "    </tr>\n",
       "  </tbody>\n",
       "</table>\n",
       "</div>"
      ],
      "text/plain": [
       "            date  Gallen-Kallela  Länsiväylä  Länsituulenkuja  Eteläesplanadi  \\\n",
       "3131  2022-07-29             NaN         NaN              NaN          1657.0   \n",
       "3132  2022-07-30             NaN         NaN              NaN          1397.0   \n",
       "3133  2022-07-31             NaN         NaN              NaN          1269.0   \n",
       "\n",
       "      Kaivokatu  Kuusisaarentie  Merikannontie  \n",
       "3131     2770.0          1201.0         1876.0  \n",
       "3132     2058.0          1123.0         1659.0  \n",
       "3133     1919.0          1347.0         2125.0  "
      ]
     },
     "execution_count": 17,
     "metadata": {},
     "output_type": "execute_result"
    }
   ],
   "source": [
    "df_espoo=pd.read_csv(\"14-espoo.csv\")\n",
    "df_helsinki=pd.read_csv(\"14-helsinki.csv\")\n",
    "df3=pd.merge(df_espoo,df_helsinki, how=\"outer\")\n",
    "df3.tail(3)"
   ]
  },
  {
   "cell_type": "code",
   "execution_count": 18,
   "id": "5ac25787",
   "metadata": {},
   "outputs": [
    {
     "name": "stdout",
     "output_type": "stream",
     "text": [
      "Total no. of observations:  3134\n"
     ]
    }
   ],
   "source": [
    "#1 \n",
    "print(\"Total no. of observations: \",df3[\"date\"].size)"
   ]
  },
  {
   "cell_type": "code",
   "execution_count": 19,
   "id": "81f01de2",
   "metadata": {},
   "outputs": [
    {
     "data": {
      "text/plain": [
       "Gallen-Kallela     1459\n",
       "Länsiväylä         1460\n",
       "Länsituulenkuja    2209\n",
       "Eteläesplanadi     3072\n",
       "Kaivokatu          1722\n",
       "Kuusisaarentie     2640\n",
       "Merikannontie      2843\n",
       "dtype: int64"
      ]
     },
     "execution_count": 19,
     "metadata": {},
     "output_type": "execute_result"
    }
   ],
   "source": [
    "#2 \n",
    "\n",
    "#for each street, observation days\n",
    "df3.count(axis=\"rows\")[1:]\n",
    "#df4=df3.fillna(2)\n",
    "#df4.count(axis=\"rows\")[1:]"
   ]
  },
  {
   "cell_type": "code",
   "execution_count": 20,
   "id": "87441e0c",
   "metadata": {},
   "outputs": [
    {
     "name": "stdout",
     "output_type": "stream",
     "text": [
      "1400\n"
     ]
    }
   ],
   "source": [
    "# 3 \n",
    "\n",
    "print(df3.dropna().index.size)"
   ]
  },
  {
   "cell_type": "code",
   "execution_count": 21,
   "id": "31341e73",
   "metadata": {},
   "outputs": [
    {
     "name": "stdout",
     "output_type": "stream",
     "text": [
      "The street was the busiest in terms of the total number of cyclists :\n",
      "Merikannontie\n"
     ]
    }
   ],
   "source": [
    "# 4\n",
    "\n",
    "\n",
    "streets=df3.iloc[:,1:]\n",
    "print(\"The street was the busiest in terms of the total number of cyclists :\")\n",
    "print(streets.sum(axis=0).sort_values(ascending=False).index[0])\n",
    "#print(streets.dropna(axis=0).sum(axis=0).sort_values(ascending=False).index[0])\n"
   ]
  },
  {
   "cell_type": "code",
   "execution_count": 22,
   "id": "1d23216d",
   "metadata": {},
   "outputs": [
    {
     "data": {
      "text/plain": [
       "'Kaivokatu'"
      ]
     },
     "execution_count": 22,
     "metadata": {},
     "output_type": "execute_result"
    }
   ],
   "source": [
    "# 5\n",
    "# Filter out the dates which have one or more missing values. \n",
    "#Does this affect your conclusion about the busiest street? Why or why not?\n",
    "\n",
    "df3_new=df3.dropna(axis= \"rows\")\n",
    "streets_new=df3_new.iloc[:, 1:]\n",
    "streets_new.sum(axis=0).sort_values(ascending=False).index[0]"
   ]
  },
  {
   "cell_type": "markdown",
   "id": "8be688ab",
   "metadata": {},
   "source": [
    "If we filter out the dates which have one or more missing values.It affects our conclusion about the busiest street because it changes and becomes Kaivokatu."
   ]
  },
  {
   "cell_type": "code",
   "execution_count": null,
   "id": "29208473",
   "metadata": {},
   "outputs": [],
   "source": []
  }
 ],
 "metadata": {
  "kernelspec": {
   "display_name": "Python 3 (ipykernel)",
   "language": "python",
   "name": "python3"
  },
  "language_info": {
   "codemirror_mode": {
    "name": "ipython",
    "version": 3
   },
   "file_extension": ".py",
   "mimetype": "text/x-python",
   "name": "python",
   "nbconvert_exporter": "python",
   "pygments_lexer": "ipython3",
   "version": "3.11.3"
  }
 },
 "nbformat": 4,
 "nbformat_minor": 5
}
